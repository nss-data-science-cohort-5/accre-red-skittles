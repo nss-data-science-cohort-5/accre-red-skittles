{
 "cells": [
  {
   "cell_type": "markdown",
   "metadata": {},
   "source": [
    "<h2 align='center'>PROJECT 4 - ACCRE</h2>"
   ]
  },
  {
   "cell_type": "markdown",
   "metadata": {},
   "source": [
    "#### Using just the fullsample.csv jobs dataset:\n",
    "\n",
    "### 1. Calculate some descriptive statistics for how many jobs per hour are being completed. What does the completions per hour look like over the time span of the dataset? Are there weekly trends, and has it been increasing over the last year?"
   ]
  },
  {
   "cell_type": "code",
   "execution_count": 1,
   "metadata": {},
   "outputs": [],
   "source": [
    "from dateutil.parser import parse\n",
    "import matplotlib.pyplot as plt\n",
    "import numpy as np\n",
    "import pandas as pd"
   ]
  },
  {
   "cell_type": "code",
   "execution_count": 2,
   "metadata": {},
   "outputs": [],
   "source": [
    "jobs = pd.read_csv('../data/fullsample.csv')"
   ]
  },
  {
   "cell_type": "code",
   "execution_count": null,
   "metadata": {
    "scrolled": true
   },
   "outputs": [],
   "source": [
    "jobs.info()\n",
    "display(jobs.head())"
   ]
  },
  {
   "cell_type": "code",
   "execution_count": 3,
   "metadata": {},
   "outputs": [],
   "source": [
    "jobs['BEGIN'] = pd.to_datetime(jobs['BEGIN'],\n",
    "                               errors = 'coerce')"
   ]
  },
  {
   "cell_type": "code",
   "execution_count": 4,
   "metadata": {},
   "outputs": [],
   "source": [
    "jobs['END'] = pd.to_datetime(jobs['END'],\n",
    "                             errors = 'coerce')"
   ]
  },
  {
   "cell_type": "code",
   "execution_count": 5,
   "metadata": {},
   "outputs": [],
   "source": [
    "jobs = jobs.sort_values('END')"
   ]
  },
  {
   "cell_type": "code",
   "execution_count": 6,
   "metadata": {},
   "outputs": [],
   "source": [
    "jobs = jobs[jobs['END'].notnull()]"
   ]
  },
  {
   "cell_type": "code",
   "execution_count": 7,
   "metadata": {},
   "outputs": [],
   "source": [
    "jobs = jobs[jobs['BEGIN'].notnull()]"
   ]
  },
  {
   "cell_type": "code",
   "execution_count": 8,
   "metadata": {},
   "outputs": [],
   "source": [
    "jobs['JOBLENGTH'] = jobs['END'] - jobs['BEGIN']"
   ]
  },
  {
   "cell_type": "code",
   "execution_count": 9,
   "metadata": {},
   "outputs": [],
   "source": [
    "jobs['REQMEMTOT'] = jobs['REQMEM'] * jobs['CPUS']"
   ]
  },
  {
   "cell_type": "code",
   "execution_count": null,
   "metadata": {},
   "outputs": [],
   "source": [
    "# jobs['REQMEMPERCORE'] = jobs['REQMEMTOT'] / jobs['CPUS']"
   ]
  },
  {
   "cell_type": "code",
   "execution_count": 10,
   "metadata": {},
   "outputs": [],
   "source": [
    "# TO DO 11/2 - LIST 'COMPLETED' JOBS, NOT ALL JOBS\n",
    "\n",
    "jobs['ROLL1H'] =  jobs.rolling('1h', \n",
    "                               on = 'END')['JOBID']\\\n",
    "                      .count()"
   ]
  },
  {
   "cell_type": "code",
   "execution_count": null,
   "metadata": {},
   "outputs": [],
   "source": [
    "# GROUP BY DAY?\n",
    "\n",
    "# GROUPBYROLL1D = \n",
    "# jobs.groupby(['END'])\\\n",
    "#     .rolling('1d', \n",
    "#          on = 'END')['JOBID']\\\n",
    "#     .count()\\\n",
    "#     .reset_index()\\\n",
    "#     .set_index('END')\n",
    "#            \n",
    "# GROUPBYROLL1D\n",
    "\n",
    "roll1day = jobs.rolling('1d', \n",
    "                        on = 'END')['JOBID']\\\n",
    "               .count()\n",
    "\n",
    "print(roll1day.describe())\n",
    "\n",
    "roll1week.plot(kind = 'line',\n",
    "               figsize=(12,6));"
   ]
  },
  {
   "cell_type": "code",
   "execution_count": null,
   "metadata": {},
   "outputs": [],
   "source": [
    "roll1week = jobs.rolling('7d', \n",
    "                         on = 'END')['JOBID']\\\n",
    "                .count()\n",
    "\n",
    "print(roll1week.describe())\n",
    "#roll1week.plot(kind = 'line',\n",
    "#               figsize=(12,6));"
   ]
  },
  {
   "cell_type": "code",
   "execution_count": null,
   "metadata": {},
   "outputs": [],
   "source": [
    "roll1month = jobs.rolling('30d', \n",
    "                          on = 'END')['JOBID']\\\n",
    "                 .count()\n",
    "\n",
    "print(roll1month.describe())"
   ]
  },
  {
   "cell_type": "code",
   "execution_count": null,
   "metadata": {},
   "outputs": [],
   "source": [
    "# jobs.plot(kind = 'line',\n",
    "#           x = 'END',\n",
    "#           y = 'ROLL1H');"
   ]
  },
  {
   "cell_type": "code",
   "execution_count": null,
   "metadata": {},
   "outputs": [],
   "source": [
    "# jobs.groupby(pd.Grouper(key = 'JOBLENGTH',\n",
    " #                       freq = '1W')).mean()"
   ]
  },
  {
   "cell_type": "code",
   "execution_count": null,
   "metadata": {},
   "outputs": [],
   "source": [
    "jobs['JOBLENGTH'].describe()"
   ]
  },
  {
   "cell_type": "code",
   "execution_count": null,
   "metadata": {},
   "outputs": [],
   "source": [
    "jobs['ROLL1H'].describe()"
   ]
  },
  {
   "cell_type": "code",
   "execution_count": null,
   "metadata": {},
   "outputs": [],
   "source": [
    "jobs.plot(kind = 'line',\n",
    "          x = 'END',\n",
    "          y = 'JOBLENGTH',\n",
    "          figsize=(12,6));"
   ]
  },
  {
   "cell_type": "code",
   "execution_count": null,
   "metadata": {},
   "outputs": [],
   "source": [
    "jobs.groupby(pd.Grouper(key = 'JOBLENGTH',\n",
    "                        freq = '1W'))\\\n",
    "    .plot(kind = 'line',\n",
    "          x = 'END',\n",
    "          y = 'JOBLENGTH');"
   ]
  },
  {
   "cell_type": "code",
   "execution_count": null,
   "metadata": {},
   "outputs": [],
   "source": [
    "# THIS TAKES WAY TOO LONG TO GRAPH - TODO 10/30\n",
    "# \n",
    "# jobs.plot(kind = 'line',\n",
    "#           x = 'END',\n",
    "#           y = 'ROLL1H');"
   ]
  },
  {
   "cell_type": "code",
   "execution_count": null,
   "metadata": {},
   "outputs": [],
   "source": [
    "# jobs['END'].dt.date"
   ]
  },
  {
   "cell_type": "code",
   "execution_count": null,
   "metadata": {},
   "outputs": [],
   "source": [
    "# IS describe() USEFUL HERE? -- TODO 10/30\n",
    "\n",
    "# jobs.groupby('END'.dt.date)['ROLL1H']\\\n",
    "#     .describe()"
   ]
  },
  {
   "cell_type": "code",
   "execution_count": null,
   "metadata": {},
   "outputs": [],
   "source": [
    "# 'GROUPBYJOBSTATE' = \n",
    "jobs\\\n",
    "    .groupby('STATE')['JOBID']\\\n",
    "    .count()\\\n",
    "    .sort_values(ascending=False)\n",
    "#   .describe()\n",
    "# GROUPBYJOBSTATE"
   ]
  },
  {
   "cell_type": "code",
   "execution_count": null,
   "metadata": {},
   "outputs": [],
   "source": [
    "# jobs['STATE'].unique()"
   ]
  },
  {
   "cell_type": "code",
   "execution_count": null,
   "metadata": {},
   "outputs": [],
   "source": [
    "# zero_exits = jobs[(jobs['STATE']!='COMPLETED') & (jobs['EXITCODE'] == '0:0')]\n",
    "# print(zero_exits['STATE'].unique())"
   ]
  },
  {
   "cell_type": "markdown",
   "metadata": {},
   "source": [
    "#### Using just the fullsample.csv jobs dataset:\n",
    "\n",
    "### 2. Does the job state affect completions per hour? i.e. if I only look at jobs with exit code 0:0 in the \"COMPLETED\" state, is that a similar number of completions per hour as with all jobs, failed or cancelled? This will indicate if the load on the scheduler is by user design or is a result of users not sufficiently testing their jobs before submitting very large arrays. We also expect that most job completions will be in the \"production\" partition, but is this actually true?"
   ]
  },
  {
   "cell_type": "code",
   "execution_count": null,
   "metadata": {},
   "outputs": [],
   "source": [
    "'''\n",
    "EXITCODE 0:0            = SUCCESS\n",
    "         0:15, 0:9, 0:2 = CANCELLED\n",
    "         1:0, 2.0       = FAILED\n",
    "'''\n",
    "# GROUPBYEXITCOUNTS = \n",
    "#                    jobs\\\n",
    "#                       .groupby('EXITCODE')['JOBID']\\\n",
    "#                       .count()\\\n",
    "#                       .sort_values(ascending=False)\n",
    "# GROUPBYEXITCOUNTS"
   ]
  },
  {
   "cell_type": "code",
   "execution_count": null,
   "metadata": {},
   "outputs": [],
   "source": [
    "# MOVING COUNT GROUPING BY EXIT CODE -- \n",
    "# \n",
    "# group_by_exit_code = \n",
    "#                     (jobs    # jobs[jobs['END'].notnull()]\n",
    "#                          .groupby('EXITCODE')\n",
    "#                          .rolling('1h', \n",
    "#                                   on = 'END')['JOBID']\n",
    "#                          .count()\n",
    "#                          .reset_index()\n",
    "#                          .set_index('END')\n",
    "#                     )\n",
    "# group_by_exit_code"
   ]
  },
  {
   "cell_type": "markdown",
   "metadata": {},
   "source": [
    "### Next, use the two log files to determine time intervals (hours) when the scheduler was unresponsive. Do this by looking for records that are the \"sbatch\" command from user 9204 that have return code 1 and an execution time of ~20 seconds (at least more than 15). These are commands where the scheduler timed out in responding.\n",
    "\n",
    "### 3.\tCalculate some descriptive statistics about how often the scheduler was unresponsive, how long these periods of time were, and create a time series plot of when the scheduler was having difficulties."
   ]
  },
  {
   "cell_type": "code",
   "execution_count": 11,
   "metadata": {},
   "outputs": [],
   "source": [
    "ce5_raw = pd.read_table(\"../data/slurm_wrapper_ce5.log\", \n",
    "                        engine='python',\n",
    "                        sep=\" - \", \n",
    "                        names=['DATE', \n",
    "                               'USER', \n",
    "                               'RETRY',\n",
    "                               'TIMELAPS',\n",
    "                               'RETURNCODE',\n",
    "                               'COMMAND']\n",
    "                       ) "
   ]
  },
  {
   "cell_type": "code",
   "execution_count": null,
   "metadata": {},
   "outputs": [],
   "source": [
    "ce5_raw.info()\n",
    "display(ce5_raw.head())"
   ]
  },
  {
   "cell_type": "code",
   "execution_count": 13,
   "metadata": {},
   "outputs": [],
   "source": [
    "ce5_raw['DATE'] = pd.to_datetime(ce5_raw.DATE)"
   ]
  },
  {
   "cell_type": "code",
   "execution_count": 12,
   "metadata": {},
   "outputs": [],
   "source": [
    "ce5_raw['SERVERID'] = 'ce5'"
   ]
  },
  {
   "cell_type": "code",
   "execution_count": null,
   "metadata": {},
   "outputs": [],
   "source": [
    "# ce5_hrs_range = ce5_raw['DATE'].max() - ce5_raw['DATE'].min()\n",
    "# display(ce5_hrs_range)"
   ]
  },
  {
   "cell_type": "code",
   "execution_count": 14,
   "metadata": {},
   "outputs": [],
   "source": [
    "ce6_raw = pd.read_table(\"../data/slurm_wrapper_ce6.log\", \n",
    "                        engine='python',\n",
    "                        sep=\" - \", \n",
    "                        names=['DATE', \n",
    "                               'USER', \n",
    "                               'RETRY',\n",
    "                               'TIMELAPS',\n",
    "                               'RETURNCODE',\n",
    "                               'COMMAND']\n",
    "                       ) "
   ]
  },
  {
   "cell_type": "code",
   "execution_count": null,
   "metadata": {},
   "outputs": [],
   "source": [
    "ce6_raw.info()\n",
    "display(ce6_raw.head())"
   ]
  },
  {
   "cell_type": "code",
   "execution_count": 16,
   "metadata": {},
   "outputs": [],
   "source": [
    "ce6_raw['DATE'] = pd.to_datetime(ce6_raw.DATE)"
   ]
  },
  {
   "cell_type": "code",
   "execution_count": 15,
   "metadata": {},
   "outputs": [],
   "source": [
    "ce6_raw['SERVERID'] = 'ce6'"
   ]
  },
  {
   "cell_type": "code",
   "execution_count": null,
   "metadata": {},
   "outputs": [],
   "source": [
    "# ce6_hrs_range = ce6_raw['ce6_DateTime'].max() - ce6_raw['ce6_DateTime'].min()\n",
    "# display(ce6_hrs_range)"
   ]
  },
  {
   "cell_type": "code",
   "execution_count": 17,
   "metadata": {},
   "outputs": [],
   "source": [
    "logs = ce5_raw.copy()"
   ]
  },
  {
   "cell_type": "code",
   "execution_count": 18,
   "metadata": {},
   "outputs": [
    {
     "data": {
      "text/html": [
       "<div>\n",
       "<style scoped>\n",
       "    .dataframe tbody tr th:only-of-type {\n",
       "        vertical-align: middle;\n",
       "    }\n",
       "\n",
       "    .dataframe tbody tr th {\n",
       "        vertical-align: top;\n",
       "    }\n",
       "\n",
       "    .dataframe thead th {\n",
       "        text-align: right;\n",
       "    }\n",
       "</style>\n",
       "<table border=\"1\" class=\"dataframe\">\n",
       "  <thead>\n",
       "    <tr style=\"text-align: right;\">\n",
       "      <th></th>\n",
       "      <th>DATE</th>\n",
       "      <th>USER</th>\n",
       "      <th>RETRY</th>\n",
       "      <th>TIMELAPS</th>\n",
       "      <th>RETURNCODE</th>\n",
       "      <th>COMMAND</th>\n",
       "      <th>SERVERID</th>\n",
       "    </tr>\n",
       "  </thead>\n",
       "  <tbody>\n",
       "    <tr>\n",
       "      <th>0</th>\n",
       "      <td>2020-10-16 08:15:39.278699</td>\n",
       "      <td>user 0</td>\n",
       "      <td>retry 0</td>\n",
       "      <td>time 0.07347559928894043</td>\n",
       "      <td>returncode 0</td>\n",
       "      <td>command ['/usr/bin/sacct', '-u', 'appelte1', '...</td>\n",
       "      <td>ce5</td>\n",
       "    </tr>\n",
       "    <tr>\n",
       "      <th>1</th>\n",
       "      <td>2020-10-16 08:18:08.313309</td>\n",
       "      <td>user 0</td>\n",
       "      <td>retry 0</td>\n",
       "      <td>time 0.18363237380981445</td>\n",
       "      <td>returncode 0</td>\n",
       "      <td>command ['/usr/bin/sacct', '-u', 'appelte1', '...</td>\n",
       "      <td>ce5</td>\n",
       "    </tr>\n",
       "    <tr>\n",
       "      <th>2</th>\n",
       "      <td>2020-10-16 08:22:48.128689</td>\n",
       "      <td>user 0</td>\n",
       "      <td>retry 0</td>\n",
       "      <td>time 0.07547116279602051</td>\n",
       "      <td>returncode 0</td>\n",
       "      <td>command ['/usr/bin/sacct', '-u', 'appelte1', '...</td>\n",
       "      <td>ce5</td>\n",
       "    </tr>\n",
       "    <tr>\n",
       "      <th>3</th>\n",
       "      <td>2020-10-16 08:25:13.257408</td>\n",
       "      <td>user 0</td>\n",
       "      <td>retry 0</td>\n",
       "      <td>time 0.09484362602233887</td>\n",
       "      <td>returncode 0</td>\n",
       "      <td>command ['/usr/bin/sacct', '-u', 'appelte1', '...</td>\n",
       "      <td>ce5</td>\n",
       "    </tr>\n",
       "    <tr>\n",
       "      <th>4</th>\n",
       "      <td>2020-10-16 08:31:01.460723</td>\n",
       "      <td>user 0</td>\n",
       "      <td>retry 0</td>\n",
       "      <td>time 0.07498788833618164</td>\n",
       "      <td>returncode 0</td>\n",
       "      <td>command ['/usr/bin/sacct', '-u', 'appelte1', '...</td>\n",
       "      <td>ce5</td>\n",
       "    </tr>\n",
       "    <tr>\n",
       "      <th>...</th>\n",
       "      <td>...</td>\n",
       "      <td>...</td>\n",
       "      <td>...</td>\n",
       "      <td>...</td>\n",
       "      <td>...</td>\n",
       "      <td>...</td>\n",
       "      <td>...</td>\n",
       "    </tr>\n",
       "    <tr>\n",
       "      <th>4776515</th>\n",
       "      <td>2021-10-07 21:59:35.014602</td>\n",
       "      <td>user 9221</td>\n",
       "      <td>retry 0</td>\n",
       "      <td>time 0.060086965560913086</td>\n",
       "      <td>returncode 0</td>\n",
       "      <td>command ['/usr/bin/squeue', '-o', '%i %T', '-u...</td>\n",
       "      <td>ce6</td>\n",
       "    </tr>\n",
       "    <tr>\n",
       "      <th>4776516</th>\n",
       "      <td>2021-10-07 21:59:35.238970</td>\n",
       "      <td>user 9202</td>\n",
       "      <td>retry 0</td>\n",
       "      <td>time 0.09804415702819824</td>\n",
       "      <td>returncode 0</td>\n",
       "      <td>command ['/usr/bin/squeue', '-o', '%i %T', '-u...</td>\n",
       "      <td>ce6</td>\n",
       "    </tr>\n",
       "    <tr>\n",
       "      <th>4776517</th>\n",
       "      <td>2021-10-07 21:59:57.265189</td>\n",
       "      <td>user 9203</td>\n",
       "      <td>retry 0</td>\n",
       "      <td>time 0.02454972267150879</td>\n",
       "      <td>returncode 0</td>\n",
       "      <td>command ['/usr/bin/squeue', '-o', '%i %T', '-u...</td>\n",
       "      <td>ce6</td>\n",
       "    </tr>\n",
       "    <tr>\n",
       "      <th>4776518</th>\n",
       "      <td>2021-10-07 22:00:04.024360</td>\n",
       "      <td>user 9201</td>\n",
       "      <td>retry 0</td>\n",
       "      <td>time 0.03941917419433594</td>\n",
       "      <td>returncode 0</td>\n",
       "      <td>command ['/usr/bin/squeue', '-o', '%i %T', '-u...</td>\n",
       "      <td>ce6</td>\n",
       "    </tr>\n",
       "    <tr>\n",
       "      <th>4776519</th>\n",
       "      <td>2021-10-07 22:00:20.919558</td>\n",
       "      <td>user 9204</td>\n",
       "      <td>retry 0</td>\n",
       "      <td>time 0.028496265411376953</td>\n",
       "      <td>returncode 0</td>\n",
       "      <td>command ['/usr/bin/sbatch', '/tmp/condor_g_scr...</td>\n",
       "      <td>ce6</td>\n",
       "    </tr>\n",
       "  </tbody>\n",
       "</table>\n",
       "<p>9547413 rows × 7 columns</p>\n",
       "</div>"
      ],
      "text/plain": [
       "                              DATE       USER    RETRY  \\\n",
       "0       2020-10-16 08:15:39.278699     user 0  retry 0   \n",
       "1       2020-10-16 08:18:08.313309     user 0  retry 0   \n",
       "2       2020-10-16 08:22:48.128689     user 0  retry 0   \n",
       "3       2020-10-16 08:25:13.257408     user 0  retry 0   \n",
       "4       2020-10-16 08:31:01.460723     user 0  retry 0   \n",
       "...                            ...        ...      ...   \n",
       "4776515 2021-10-07 21:59:35.014602  user 9221  retry 0   \n",
       "4776516 2021-10-07 21:59:35.238970  user 9202  retry 0   \n",
       "4776517 2021-10-07 21:59:57.265189  user 9203  retry 0   \n",
       "4776518 2021-10-07 22:00:04.024360  user 9201  retry 0   \n",
       "4776519 2021-10-07 22:00:20.919558  user 9204  retry 0   \n",
       "\n",
       "                          TIMELAPS    RETURNCODE  \\\n",
       "0         time 0.07347559928894043  returncode 0   \n",
       "1         time 0.18363237380981445  returncode 0   \n",
       "2         time 0.07547116279602051  returncode 0   \n",
       "3         time 0.09484362602233887  returncode 0   \n",
       "4         time 0.07498788833618164  returncode 0   \n",
       "...                            ...           ...   \n",
       "4776515  time 0.060086965560913086  returncode 0   \n",
       "4776516   time 0.09804415702819824  returncode 0   \n",
       "4776517   time 0.02454972267150879  returncode 0   \n",
       "4776518   time 0.03941917419433594  returncode 0   \n",
       "4776519  time 0.028496265411376953  returncode 0   \n",
       "\n",
       "                                                   COMMAND SERVERID  \n",
       "0        command ['/usr/bin/sacct', '-u', 'appelte1', '...      ce5  \n",
       "1        command ['/usr/bin/sacct', '-u', 'appelte1', '...      ce5  \n",
       "2        command ['/usr/bin/sacct', '-u', 'appelte1', '...      ce5  \n",
       "3        command ['/usr/bin/sacct', '-u', 'appelte1', '...      ce5  \n",
       "4        command ['/usr/bin/sacct', '-u', 'appelte1', '...      ce5  \n",
       "...                                                    ...      ...  \n",
       "4776515  command ['/usr/bin/squeue', '-o', '%i %T', '-u...      ce6  \n",
       "4776516  command ['/usr/bin/squeue', '-o', '%i %T', '-u...      ce6  \n",
       "4776517  command ['/usr/bin/squeue', '-o', '%i %T', '-u...      ce6  \n",
       "4776518  command ['/usr/bin/squeue', '-o', '%i %T', '-u...      ce6  \n",
       "4776519  command ['/usr/bin/sbatch', '/tmp/condor_g_scr...      ce6  \n",
       "\n",
       "[9547413 rows x 7 columns]"
      ]
     },
     "execution_count": 18,
     "metadata": {},
     "output_type": "execute_result"
    }
   ],
   "source": [
    "# APPEND TWO SERVERS' LOGS INTO A SINGLE DATA FRAME\n",
    "\n",
    "logs.append(ce6_raw)"
   ]
  },
  {
   "cell_type": "code",
   "execution_count": 19,
   "metadata": {},
   "outputs": [],
   "source": [
    "# TO DO - USE row num AS 'JOBID'?\n",
    "\n",
    "logs['JOBID'] = '0'"
   ]
  },
  {
   "cell_type": "code",
   "execution_count": null,
   "metadata": {},
   "outputs": [],
   "source": [
    "# TO DO - SPLIT TIMELAPS COLUMN AND TURN INTO TIMELAPSE OR OTHER MATH DATA TYPE"
   ]
  },
  {
   "cell_type": "code",
   "execution_count": 27,
   "metadata": {},
   "outputs": [],
   "source": [
    "# TO SEE ENTIRE 'COMMAND' COLUMN - pd.set_option('max_colwidth', None), THEN\n",
    "# pd.reset_option('max_colwidth')"
   ]
  },
  {
   "cell_type": "code",
   "execution_count": 25,
   "metadata": {},
   "outputs": [
    {
     "data": {
      "text/plain": [
       "0    command ['/usr/bin/sacct', '-u', 'appelte1', '-S', '2020-10-10']\n",
       "1    command ['/usr/bin/sacct', '-u', 'appelte1', '-S', '2020-10-10']\n",
       "2    command ['/usr/bin/sacct', '-u', 'appelte1', '-S', '2020-10-10']\n",
       "3    command ['/usr/bin/sacct', '-u', 'appelte1', '-S', '2020-10-10']\n",
       "4    command ['/usr/bin/sacct', '-u', 'appelte1', '-S', '2020-10-14']\n",
       "Name: COMMAND, dtype: object"
      ]
     },
     "execution_count": 25,
     "metadata": {},
     "output_type": "execute_result"
    }
   ],
   "source": [
    "logs['COMMAND'].head()"
   ]
  },
  {
   "cell_type": "code",
   "execution_count": 22,
   "metadata": {},
   "outputs": [
    {
     "data": {
      "text/html": [
       "<div>\n",
       "<style scoped>\n",
       "    .dataframe tbody tr th:only-of-type {\n",
       "        vertical-align: middle;\n",
       "    }\n",
       "\n",
       "    .dataframe tbody tr th {\n",
       "        vertical-align: top;\n",
       "    }\n",
       "\n",
       "    .dataframe thead th {\n",
       "        text-align: right;\n",
       "    }\n",
       "</style>\n",
       "<table border=\"1\" class=\"dataframe\">\n",
       "  <thead>\n",
       "    <tr style=\"text-align: right;\">\n",
       "      <th></th>\n",
       "      <th>DATE</th>\n",
       "      <th>USER</th>\n",
       "      <th>RETRY</th>\n",
       "      <th>TIMELAPS</th>\n",
       "      <th>RETURNCODE</th>\n",
       "      <th>COMMAND</th>\n",
       "      <th>SERVERID</th>\n",
       "      <th>JOBID</th>\n",
       "    </tr>\n",
       "  </thead>\n",
       "  <tbody>\n",
       "    <tr>\n",
       "      <th>564</th>\n",
       "      <td>2020-10-16 08:59:38.926896</td>\n",
       "      <td>user 9204</td>\n",
       "      <td>retry 0</td>\n",
       "      <td>time 0.1231698989868164</td>\n",
       "      <td>returncode 1</td>\n",
       "      <td>command ['/usr/bin/scontrol', 'show', 'job', '...</td>\n",
       "      <td>ce5</td>\n",
       "      <td>0</td>\n",
       "    </tr>\n",
       "    <tr>\n",
       "      <th>565</th>\n",
       "      <td>2020-10-16 08:59:38.986336</td>\n",
       "      <td>user 9204</td>\n",
       "      <td>retry 1</td>\n",
       "      <td>time 0.05905652046203613</td>\n",
       "      <td>returncode 1</td>\n",
       "      <td>command ['/usr/bin/scontrol', 'show', 'job', '...</td>\n",
       "      <td>ce5</td>\n",
       "      <td>0</td>\n",
       "    </tr>\n",
       "    <tr>\n",
       "      <th>566</th>\n",
       "      <td>2020-10-16 08:59:39.133897</td>\n",
       "      <td>user 9204</td>\n",
       "      <td>retry 2</td>\n",
       "      <td>time 0.1472628116607666</td>\n",
       "      <td>returncode 1</td>\n",
       "      <td>command ['/usr/bin/scontrol', 'show', 'job', '...</td>\n",
       "      <td>ce5</td>\n",
       "      <td>0</td>\n",
       "    </tr>\n",
       "    <tr>\n",
       "      <th>683</th>\n",
       "      <td>2020-10-16 09:11:17.798315</td>\n",
       "      <td>user 9204</td>\n",
       "      <td>retry 0</td>\n",
       "      <td>time 0.02103400230407715</td>\n",
       "      <td>returncode 1</td>\n",
       "      <td>command ['/usr/bin/scontrol', 'show', 'job', '...</td>\n",
       "      <td>ce5</td>\n",
       "      <td>0</td>\n",
       "    </tr>\n",
       "    <tr>\n",
       "      <th>684</th>\n",
       "      <td>2020-10-16 09:11:17.817819</td>\n",
       "      <td>user 9204</td>\n",
       "      <td>retry 1</td>\n",
       "      <td>time 0.019124746322631836</td>\n",
       "      <td>returncode 1</td>\n",
       "      <td>command ['/usr/bin/scontrol', 'show', 'job', '...</td>\n",
       "      <td>ce5</td>\n",
       "      <td>0</td>\n",
       "    </tr>\n",
       "    <tr>\n",
       "      <th>...</th>\n",
       "      <td>...</td>\n",
       "      <td>...</td>\n",
       "      <td>...</td>\n",
       "      <td>...</td>\n",
       "      <td>...</td>\n",
       "      <td>...</td>\n",
       "      <td>...</td>\n",
       "      <td>...</td>\n",
       "    </tr>\n",
       "    <tr>\n",
       "      <th>4729891</th>\n",
       "      <td>2021-10-02 16:01:42.684681</td>\n",
       "      <td>user 9204</td>\n",
       "      <td>retry 0</td>\n",
       "      <td>time 21.28179407119751</td>\n",
       "      <td>returncode 1</td>\n",
       "      <td>command ['/usr/bin/squeue', '-o', '%i %T', '-u...</td>\n",
       "      <td>ce5</td>\n",
       "      <td>0</td>\n",
       "    </tr>\n",
       "    <tr>\n",
       "      <th>4730187</th>\n",
       "      <td>2021-10-02 16:34:51.632533</td>\n",
       "      <td>user 9204</td>\n",
       "      <td>retry 0</td>\n",
       "      <td>time 20.060213804244995</td>\n",
       "      <td>returncode 1</td>\n",
       "      <td>command ['/usr/bin/squeue', '-o', '%i %T', '-u...</td>\n",
       "      <td>ce5</td>\n",
       "      <td>0</td>\n",
       "    </tr>\n",
       "    <tr>\n",
       "      <th>4730701</th>\n",
       "      <td>2021-10-02 17:33:19.126956</td>\n",
       "      <td>user 9204</td>\n",
       "      <td>retry 0</td>\n",
       "      <td>time 20.50884461402893</td>\n",
       "      <td>returncode 1</td>\n",
       "      <td>command ['/usr/bin/squeue', '-o', '%i %T', '-j...</td>\n",
       "      <td>ce5</td>\n",
       "      <td>0</td>\n",
       "    </tr>\n",
       "    <tr>\n",
       "      <th>4730705</th>\n",
       "      <td>2021-10-02 17:33:39.156362</td>\n",
       "      <td>user 9204</td>\n",
       "      <td>retry 1</td>\n",
       "      <td>time 20.028889894485474</td>\n",
       "      <td>returncode 1</td>\n",
       "      <td>command ['/usr/bin/squeue', '-o', '%i %T', '-j...</td>\n",
       "      <td>ce5</td>\n",
       "      <td>0</td>\n",
       "    </tr>\n",
       "    <tr>\n",
       "      <th>4731181</th>\n",
       "      <td>2021-10-02 18:29:08.267199</td>\n",
       "      <td>user 9204</td>\n",
       "      <td>retry 0</td>\n",
       "      <td>time 20.04314613342285</td>\n",
       "      <td>returncode 1</td>\n",
       "      <td>command ['/usr/bin/sbatch', '/tmp/condor_g_scr...</td>\n",
       "      <td>ce5</td>\n",
       "      <td>0</td>\n",
       "    </tr>\n",
       "  </tbody>\n",
       "</table>\n",
       "<p>29420 rows × 8 columns</p>\n",
       "</div>"
      ],
      "text/plain": [
       "                              DATE       USER    RETRY  \\\n",
       "564     2020-10-16 08:59:38.926896  user 9204  retry 0   \n",
       "565     2020-10-16 08:59:38.986336  user 9204  retry 1   \n",
       "566     2020-10-16 08:59:39.133897  user 9204  retry 2   \n",
       "683     2020-10-16 09:11:17.798315  user 9204  retry 0   \n",
       "684     2020-10-16 09:11:17.817819  user 9204  retry 1   \n",
       "...                            ...        ...      ...   \n",
       "4729891 2021-10-02 16:01:42.684681  user 9204  retry 0   \n",
       "4730187 2021-10-02 16:34:51.632533  user 9204  retry 0   \n",
       "4730701 2021-10-02 17:33:19.126956  user 9204  retry 0   \n",
       "4730705 2021-10-02 17:33:39.156362  user 9204  retry 1   \n",
       "4731181 2021-10-02 18:29:08.267199  user 9204  retry 0   \n",
       "\n",
       "                          TIMELAPS    RETURNCODE  \\\n",
       "564        time 0.1231698989868164  returncode 1   \n",
       "565       time 0.05905652046203613  returncode 1   \n",
       "566        time 0.1472628116607666  returncode 1   \n",
       "683       time 0.02103400230407715  returncode 1   \n",
       "684      time 0.019124746322631836  returncode 1   \n",
       "...                            ...           ...   \n",
       "4729891     time 21.28179407119751  returncode 1   \n",
       "4730187    time 20.060213804244995  returncode 1   \n",
       "4730701     time 20.50884461402893  returncode 1   \n",
       "4730705    time 20.028889894485474  returncode 1   \n",
       "4731181     time 20.04314613342285  returncode 1   \n",
       "\n",
       "                                                   COMMAND SERVERID JOBID  \n",
       "564      command ['/usr/bin/scontrol', 'show', 'job', '...      ce5     0  \n",
       "565      command ['/usr/bin/scontrol', 'show', 'job', '...      ce5     0  \n",
       "566      command ['/usr/bin/scontrol', 'show', 'job', '...      ce5     0  \n",
       "683      command ['/usr/bin/scontrol', 'show', 'job', '...      ce5     0  \n",
       "684      command ['/usr/bin/scontrol', 'show', 'job', '...      ce5     0  \n",
       "...                                                    ...      ...   ...  \n",
       "4729891  command ['/usr/bin/squeue', '-o', '%i %T', '-u...      ce5     0  \n",
       "4730187  command ['/usr/bin/squeue', '-o', '%i %T', '-u...      ce5     0  \n",
       "4730701  command ['/usr/bin/squeue', '-o', '%i %T', '-j...      ce5     0  \n",
       "4730705  command ['/usr/bin/squeue', '-o', '%i %T', '-j...      ce5     0  \n",
       "4731181  command ['/usr/bin/sbatch', '/tmp/condor_g_scr...      ce5     0  \n",
       "\n",
       "[29420 rows x 8 columns]"
      ]
     },
     "execution_count": 22,
     "metadata": {},
     "output_type": "execute_result"
    }
   ],
   "source": [
    "logs[(logs['USER']=='user 9204')\\\n",
    "      & (logs['RETURNCODE']=='returncode 1')\n",
    "#     & (logs['TIMELAPS']> ...) # WHAT IS UNIT HERE?  + MUST CONVERT DATA TYPE\n",
    "#     & (logs['COMMAND'] ... )  # NEED TO REGEX PARSE sbatch, etc FROM 'COMMAND'     \n",
    "    ]"
   ]
  },
  {
   "cell_type": "markdown",
   "metadata": {},
   "source": [
    "### 4.\tFinally, combine the time series information from the two datasets together to see how well correlated heavy job-completion load is with the unresponsiveness, and to see if there is some threshold of job completions per hour that generally results in unresponsiveness."
   ]
  },
  {
   "cell_type": "code",
   "execution_count": null,
   "metadata": {},
   "outputs": [],
   "source": [
    "# APPENDING BOTH SERVERS' LOGS INTO ONE logs DATAFRAME   - TODO 11/2\n",
    "\n",
    "# logs = pd.append(left = ce5_raw, right = ce6_raw,\n",
    "#                 )"
   ]
  }
 ],
 "metadata": {
  "kernelspec": {
   "display_name": "Python 3",
   "language": "python",
   "name": "python3"
  },
  "language_info": {
   "codemirror_mode": {
    "name": "ipython",
    "version": 3
   },
   "file_extension": ".py",
   "mimetype": "text/x-python",
   "name": "python",
   "nbconvert_exporter": "python",
   "pygments_lexer": "ipython3",
   "version": "3.8.5"
  }
 },
 "nbformat": 4,
 "nbformat_minor": 5
}
