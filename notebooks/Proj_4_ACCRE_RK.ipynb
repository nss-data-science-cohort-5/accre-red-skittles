{
 "cells": [
  {
   "cell_type": "markdown",
   "metadata": {},
   "source": [
    "<h2 align='center'>PROJECT 4 - ACCRE</h2>"
   ]
  },
  {
   "cell_type": "markdown",
   "metadata": {},
   "source": [
    "#### Using just the fullsample.csv jobs dataset:\n",
    "\n",
    "### 1. Calculate some descriptive statistics for how many jobs per hour are being completed. What does the completions per hour look like over the time span of the dataset? Are there weekly trends, and has it been increasing over the last year?"
   ]
  },
  {
   "cell_type": "code",
   "execution_count": 1,
   "metadata": {},
   "outputs": [],
   "source": [
    "from dateutil.parser import parse\n",
    "import matplotlib.pyplot as plt\n",
    "import numpy as np\n",
    "import pandas as pd"
   ]
  },
  {
   "cell_type": "code",
   "execution_count": 2,
   "metadata": {},
   "outputs": [],
   "source": [
    "full_sample = pd.read_csv('../data/fullsample.csv',\n",
    "                          usecols = [0,1,2,3,\n",
    "                                     6,7,\n",
    "                                     10,11])"
   ]
  },
  {
   "cell_type": "code",
   "execution_count": 8,
   "metadata": {},
   "outputs": [
    {
     "name": "stdout",
     "output_type": "stream",
     "text": [
      "<class 'pandas.core.frame.DataFrame'>\n",
      "RangeIndex: 7395885 entries, 0 to 7395884\n",
      "Data columns (total 8 columns):\n",
      " #   Column     Dtype         \n",
      "---  ------     -----         \n",
      " 0   JOBID      object        \n",
      " 1   STATE      object        \n",
      " 2   BEGIN      datetime64[ns]\n",
      " 3   END        datetime64[ns]\n",
      " 4   REQTIME    object        \n",
      " 5   USEDTIME   object        \n",
      " 6   PARTITION  object        \n",
      " 7   EXITCODE   object        \n",
      "dtypes: datetime64[ns](2), object(6)\n",
      "memory usage: 451.4+ MB\n"
     ]
    },
    {
     "data": {
      "text/html": [
       "<div>\n",
       "<style scoped>\n",
       "    .dataframe tbody tr th:only-of-type {\n",
       "        vertical-align: middle;\n",
       "    }\n",
       "\n",
       "    .dataframe tbody tr th {\n",
       "        vertical-align: top;\n",
       "    }\n",
       "\n",
       "    .dataframe thead th {\n",
       "        text-align: right;\n",
       "    }\n",
       "</style>\n",
       "<table border=\"1\" class=\"dataframe\">\n",
       "  <thead>\n",
       "    <tr style=\"text-align: right;\">\n",
       "      <th></th>\n",
       "      <th>JOBID</th>\n",
       "      <th>STATE</th>\n",
       "      <th>BEGIN</th>\n",
       "      <th>END</th>\n",
       "      <th>REQTIME</th>\n",
       "      <th>USEDTIME</th>\n",
       "      <th>PARTITION</th>\n",
       "      <th>EXITCODE</th>\n",
       "    </tr>\n",
       "  </thead>\n",
       "  <tbody>\n",
       "    <tr>\n",
       "      <th>0</th>\n",
       "      <td>30616928</td>\n",
       "      <td>RUNNING</td>\n",
       "      <td>2021-07-31 22:15:00</td>\n",
       "      <td>1901-01-01 11:59:59</td>\n",
       "      <td>10:04:00</td>\n",
       "      <td>67-22:14:22</td>\n",
       "      <td>production</td>\n",
       "      <td>0:0</td>\n",
       "    </tr>\n",
       "    <tr>\n",
       "      <th>1</th>\n",
       "      <td>30853133</td>\n",
       "      <td>COMPLETED</td>\n",
       "      <td>2021-08-06 11:36:09</td>\n",
       "      <td>2021-09-05 11:36:32</td>\n",
       "      <td>30-00:00:00</td>\n",
       "      <td>30-00:00:23</td>\n",
       "      <td>cgw-platypus</td>\n",
       "      <td>0:0</td>\n",
       "    </tr>\n",
       "    <tr>\n",
       "      <th>2</th>\n",
       "      <td>30858137</td>\n",
       "      <td>COMPLETED</td>\n",
       "      <td>2021-08-06 19:04:39</td>\n",
       "      <td>2021-09-05 19:04:53</td>\n",
       "      <td>30-00:00:00</td>\n",
       "      <td>30-00:00:14</td>\n",
       "      <td>cgw-tbi01</td>\n",
       "      <td>0:0</td>\n",
       "    </tr>\n",
       "    <tr>\n",
       "      <th>3</th>\n",
       "      <td>30935078</td>\n",
       "      <td>COMPLETED</td>\n",
       "      <td>2021-08-09 16:52:51</td>\n",
       "      <td>2021-09-07 20:52:55</td>\n",
       "      <td>29-04:00:00</td>\n",
       "      <td>29-04:00:04</td>\n",
       "      <td>cgw-platypus</td>\n",
       "      <td>0:0</td>\n",
       "    </tr>\n",
       "    <tr>\n",
       "      <th>4</th>\n",
       "      <td>31364111_2</td>\n",
       "      <td>COMPLETED</td>\n",
       "      <td>2021-08-17 07:45:07</td>\n",
       "      <td>2021-09-10 16:45:24</td>\n",
       "      <td>24-09:00:00</td>\n",
       "      <td>24-09:00:17</td>\n",
       "      <td>production</td>\n",
       "      <td>0:0</td>\n",
       "    </tr>\n",
       "  </tbody>\n",
       "</table>\n",
       "</div>"
      ],
      "text/plain": [
       "        JOBID      STATE               BEGIN                 END      REQTIME  \\\n",
       "0    30616928    RUNNING 2021-07-31 22:15:00 1901-01-01 11:59:59     10:04:00   \n",
       "1    30853133  COMPLETED 2021-08-06 11:36:09 2021-09-05 11:36:32  30-00:00:00   \n",
       "2    30858137  COMPLETED 2021-08-06 19:04:39 2021-09-05 19:04:53  30-00:00:00   \n",
       "3    30935078  COMPLETED 2021-08-09 16:52:51 2021-09-07 20:52:55  29-04:00:00   \n",
       "4  31364111_2  COMPLETED 2021-08-17 07:45:07 2021-09-10 16:45:24  24-09:00:00   \n",
       "\n",
       "      USEDTIME     PARTITION EXITCODE  \n",
       "0  67-22:14:22    production      0:0  \n",
       "1  30-00:00:23  cgw-platypus      0:0  \n",
       "2  30-00:00:14     cgw-tbi01      0:0  \n",
       "3  29-04:00:04  cgw-platypus      0:0  \n",
       "4  24-09:00:17    production      0:0  "
      ]
     },
     "metadata": {},
     "output_type": "display_data"
    }
   ],
   "source": [
    "full_sample.info()\n",
    "display(full_sample.head())"
   ]
  },
  {
   "cell_type": "code",
   "execution_count": 4,
   "metadata": {
    "scrolled": true
   },
   "outputs": [],
   "source": [
    "# full_sample[(full_sample['BEGIN']=='Unknown')].count()\n",
    "\n",
    "full_sample['BEGIN'] = full_sample['BEGIN']\\\n",
    "                                           .str.replace('Unknown', \n",
    "                                                        '1901-01-01T11:59:59')"
   ]
  },
  {
   "cell_type": "code",
   "execution_count": 5,
   "metadata": {},
   "outputs": [],
   "source": [
    "# full_sample[(full_sample['END']=='Unknown')].count()\n",
    "\n",
    "full_sample['END'] = full_sample['END']\\\n",
    "                                       .str.replace('Unknown', \n",
    "                                                    '1901-01-01T11:59:59')"
   ]
  },
  {
   "cell_type": "code",
   "execution_count": 6,
   "metadata": {},
   "outputs": [],
   "source": [
    "full_sample['BEGIN'] = pd.to_datetime(full_sample['BEGIN'])"
   ]
  },
  {
   "cell_type": "code",
   "execution_count": 7,
   "metadata": {},
   "outputs": [],
   "source": [
    "full_sample['END'] = pd.to_datetime(full_sample['END'])"
   ]
  },
  {
   "cell_type": "code",
   "execution_count": 10,
   "metadata": {},
   "outputs": [],
   "source": [
    "full_sample = full_sample.sort_values('END')"
   ]
  },
  {
   "cell_type": "code",
   "execution_count": 13,
   "metadata": {},
   "outputs": [
    {
     "data": {
      "text/html": [
       "<div>\n",
       "<style scoped>\n",
       "    .dataframe tbody tr th:only-of-type {\n",
       "        vertical-align: middle;\n",
       "    }\n",
       "\n",
       "    .dataframe tbody tr th {\n",
       "        vertical-align: top;\n",
       "    }\n",
       "\n",
       "    .dataframe thead th {\n",
       "        text-align: right;\n",
       "    }\n",
       "</style>\n",
       "<table border=\"1\" class=\"dataframe\">\n",
       "  <thead>\n",
       "    <tr style=\"text-align: right;\">\n",
       "      <th></th>\n",
       "      <th>JOBID</th>\n",
       "      <th>STATE</th>\n",
       "      <th>BEGIN</th>\n",
       "      <th>END</th>\n",
       "      <th>REQTIME</th>\n",
       "      <th>USEDTIME</th>\n",
       "      <th>PARTITION</th>\n",
       "      <th>EXITCODE</th>\n",
       "      <th>jobs_per_hour</th>\n",
       "    </tr>\n",
       "  </thead>\n",
       "  <tbody>\n",
       "    <tr>\n",
       "      <th>6640577</th>\n",
       "      <td>24460577</td>\n",
       "      <td>COMPLETED</td>\n",
       "      <td>2020-10-01 00:05:55</td>\n",
       "      <td>2020-10-01 00:10:15</td>\n",
       "      <td>12:00:00</td>\n",
       "      <td>00:04:20</td>\n",
       "      <td>production</td>\n",
       "      <td>0:0</td>\n",
       "      <td>1.0</td>\n",
       "    </tr>\n",
       "    <tr>\n",
       "      <th>6640635</th>\n",
       "      <td>24460647</td>\n",
       "      <td>COMPLETED</td>\n",
       "      <td>2020-10-01 00:10:38</td>\n",
       "      <td>2020-10-01 00:12:58</td>\n",
       "      <td>2-00:00:00</td>\n",
       "      <td>00:02:20</td>\n",
       "      <td>sam</td>\n",
       "      <td>0:0</td>\n",
       "      <td>2.0</td>\n",
       "    </tr>\n",
       "    <tr>\n",
       "      <th>6640627</th>\n",
       "      <td>24460639</td>\n",
       "      <td>COMPLETED</td>\n",
       "      <td>2020-10-01 00:11:22</td>\n",
       "      <td>2020-10-01 00:13:31</td>\n",
       "      <td>00:30:00</td>\n",
       "      <td>00:02:09</td>\n",
       "      <td>production</td>\n",
       "      <td>0:0</td>\n",
       "      <td>3.0</td>\n",
       "    </tr>\n",
       "    <tr>\n",
       "      <th>6640651</th>\n",
       "      <td>24460668</td>\n",
       "      <td>COMPLETED</td>\n",
       "      <td>2020-10-01 00:15:16</td>\n",
       "      <td>2020-10-01 00:17:23</td>\n",
       "      <td>2-00:00:00</td>\n",
       "      <td>00:02:07</td>\n",
       "      <td>sam</td>\n",
       "      <td>0:0</td>\n",
       "      <td>4.0</td>\n",
       "    </tr>\n",
       "    <tr>\n",
       "      <th>6640654</th>\n",
       "      <td>24460671</td>\n",
       "      <td>COMPLETED</td>\n",
       "      <td>2020-10-01 00:17:08</td>\n",
       "      <td>2020-10-01 00:17:53</td>\n",
       "      <td>00:30:00</td>\n",
       "      <td>00:00:45</td>\n",
       "      <td>production</td>\n",
       "      <td>0:0</td>\n",
       "      <td>5.0</td>\n",
       "    </tr>\n",
       "  </tbody>\n",
       "</table>\n",
       "</div>"
      ],
      "text/plain": [
       "            JOBID      STATE               BEGIN                 END  \\\n",
       "6640577  24460577  COMPLETED 2020-10-01 00:05:55 2020-10-01 00:10:15   \n",
       "6640635  24460647  COMPLETED 2020-10-01 00:10:38 2020-10-01 00:12:58   \n",
       "6640627  24460639  COMPLETED 2020-10-01 00:11:22 2020-10-01 00:13:31   \n",
       "6640651  24460668  COMPLETED 2020-10-01 00:15:16 2020-10-01 00:17:23   \n",
       "6640654  24460671  COMPLETED 2020-10-01 00:17:08 2020-10-01 00:17:53   \n",
       "\n",
       "            REQTIME  USEDTIME   PARTITION EXITCODE  jobs_per_hour  \n",
       "6640577    12:00:00  00:04:20  production      0:0            1.0  \n",
       "6640635  2-00:00:00  00:02:20         sam      0:0            2.0  \n",
       "6640627    00:30:00  00:02:09  production      0:0            3.0  \n",
       "6640651  2-00:00:00  00:02:07         sam      0:0            4.0  \n",
       "6640654    00:30:00  00:00:45  production      0:0            5.0  "
      ]
     },
     "metadata": {},
     "output_type": "display_data"
    }
   ],
   "source": [
    "# MOVING COUNT OF JOBS PER HOUR -- \n",
    "\n",
    "full_sample['jobs_per_hour'] = full_sample.rolling('1h', \n",
    "                                                   on = 'END')['JOBID'].count()\n",
    "display(full_sample[(full_sample['END']!='1901-01-01 11:59:59')].head())"
   ]
  },
  {
   "cell_type": "code",
   "execution_count": 26,
   "metadata": {},
   "outputs": [
    {
     "ename": "AttributeError",
     "evalue": "'str' object has no attribute 'dt'",
     "output_type": "error",
     "traceback": [
      "\u001b[1;31m---------------------------------------------------------------------------\u001b[0m",
      "\u001b[1;31mAttributeError\u001b[0m                            Traceback (most recent call last)",
      "\u001b[1;32m<ipython-input-26-d17f362c530c>\u001b[0m in \u001b[0;36m<module>\u001b[1;34m\u001b[0m\n\u001b[0;32m      2\u001b[0m \u001b[1;33m\u001b[0m\u001b[0m\n\u001b[0;32m      3\u001b[0m jobs_by_day_hour = (full_sample\n\u001b[1;32m----> 4\u001b[1;33m                                \u001b[1;33m.\u001b[0m\u001b[0mgroupby\u001b[0m\u001b[1;33m(\u001b[0m\u001b[1;34m'END'\u001b[0m\u001b[1;33m.\u001b[0m\u001b[0mdt\u001b[0m\u001b[1;33m.\u001b[0m\u001b[0mdate\u001b[0m\u001b[1;33m)\u001b[0m\u001b[1;33m\u001b[0m\u001b[1;33m\u001b[0m\u001b[0m\n\u001b[0m\u001b[0;32m      5\u001b[0m                                .rolling('1h', \n\u001b[0;32m      6\u001b[0m                                         on = 'END')['JOBID']\n",
      "\u001b[1;31mAttributeError\u001b[0m: 'str' object has no attribute 'dt'"
     ]
    }
   ],
   "source": [
    "# GROUP BY YEAR-MONTH-DAY-HOUR?\n",
    "\n",
    "jobs_by_day_hour = (full_sample\n",
    "                               .groupby('END'.dt.date)\n",
    "                               .rolling('1h', \n",
    "                                        on = 'END')['JOBID']\n",
    "                               .count()\n",
    "                               .reset_index()\n",
    "                               .set_index('END')\n",
    "                   )"
   ]
  },
  {
   "cell_type": "code",
   "execution_count": null,
   "metadata": {},
   "outputs": [],
   "source": [
    "# full_sample['DAYS_USED'] = full_sample['USEDTIME'].str.split('-', expand=True)[0]"
   ]
  },
  {
   "cell_type": "code",
   "execution_count": null,
   "metadata": {},
   "outputs": [],
   "source": [
    "# full_sample['HOURS_USED'] = full_sample['USEDTIME'].str.split('-', expand=True)[1]"
   ]
  },
  {
   "cell_type": "code",
   "execution_count": null,
   "metadata": {},
   "outputs": [],
   "source": [
    "# IF CREATING SMALLER TABLE TO TEST CODE\n",
    "#\n",
    "# out_mem_test = full_sample[(full_sample['STATE']=='OUT_OF_MEMORY')]\n",
    "# display(out_mem_test.head())"
   ]
  },
  {
   "cell_type": "code",
   "execution_count": null,
   "metadata": {},
   "outputs": [],
   "source": [
    "job_state_counts = full_sample\\\n",
    "                               .groupby('STATE')['JOBID']\\\n",
    "                               .count()\\\n",
    "                               .sort_values(ascending=False)\n",
    "                    #          .describe()\n",
    "job_state_counts"
   ]
  },
  {
   "cell_type": "code",
   "execution_count": null,
   "metadata": {},
   "outputs": [],
   "source": [
    "# full_sample['STATE'].unique()"
   ]
  },
  {
   "cell_type": "code",
   "execution_count": null,
   "metadata": {},
   "outputs": [],
   "source": [
    "# zero_exits = full_sample[(full_sample['STATE']!='COMPLETED') & (full_sample['EXITCODE'] == '0:0')]\n",
    "# print(zero_exits['STATE'].unique())"
   ]
  },
  {
   "cell_type": "markdown",
   "metadata": {},
   "source": [
    "#### Using just the fullsample.csv jobs dataset:\n",
    "\n",
    "### 2. Does the job state affect completions per hour? i.e. if I only look at jobs with exit code 0:0 in the \"COMPLETED\" state, is that a similar number of completions per hour as with all jobs, failed or cancelled? This will indicate if the load on the scheduler is by user design or is a result of users not sufficiently testing their jobs before submitting very large arrays. We also expect that most job completions will be in the \"production\" partition, but is this actually true?"
   ]
  },
  {
   "cell_type": "code",
   "execution_count": null,
   "metadata": {},
   "outputs": [],
   "source": [
    "'''\n",
    "EXITCODE 0:0            = SUCCESS\n",
    "         0:15, 0:9, 0:2 = CANCELLED\n",
    "         1:0, 2.0       = FAILED\n",
    "'''\n",
    "exit_code_counts = full_sample\\\n",
    "                               .groupby('EXITCODE')['JOBID']\\\n",
    "                               .count()\\\n",
    "                               .sort_values(ascending=False)\n",
    "exit_code_counts"
   ]
  },
  {
   "cell_type": "code",
   "execution_count": 25,
   "metadata": {},
   "outputs": [
    {
     "ename": "KeyError",
     "evalue": "\"None of ['END'] are in the columns\"",
     "output_type": "error",
     "traceback": [
      "\u001b[1;31m---------------------------------------------------------------------------\u001b[0m",
      "\u001b[1;31mKeyError\u001b[0m                                  Traceback (most recent call last)",
      "\u001b[1;32m<ipython-input-25-dea1ea22ccf2>\u001b[0m in \u001b[0;36m<module>\u001b[1;34m\u001b[0m\n\u001b[0;32m      1\u001b[0m \u001b[1;31m# MOVING COUNT GROUPING BY EXIT CODE --\u001b[0m\u001b[1;33m\u001b[0m\u001b[1;33m\u001b[0m\u001b[1;33m\u001b[0m\u001b[0m\n\u001b[0;32m      2\u001b[0m \u001b[1;33m\u001b[0m\u001b[0m\n\u001b[1;32m----> 3\u001b[1;33m group_by_exit_code = (full_sample\n\u001b[0m\u001b[0;32m      4\u001b[0m                                  \u001b[1;33m.\u001b[0m\u001b[0mgroupby\u001b[0m\u001b[1;33m(\u001b[0m\u001b[1;34m'EXITCODE'\u001b[0m\u001b[1;33m)\u001b[0m\u001b[1;33m\u001b[0m\u001b[1;33m\u001b[0m\u001b[0m\n\u001b[0;32m      5\u001b[0m                                  .rolling('1h', \n",
      "\u001b[1;32m~\\Anaconda3\\lib\\site-packages\\pandas\\core\\frame.py\u001b[0m in \u001b[0;36mset_index\u001b[1;34m(self, keys, drop, append, inplace, verify_integrity)\u001b[0m\n\u001b[0;32m   4549\u001b[0m \u001b[1;33m\u001b[0m\u001b[0m\n\u001b[0;32m   4550\u001b[0m         \u001b[1;32mif\u001b[0m \u001b[0mmissing\u001b[0m\u001b[1;33m:\u001b[0m\u001b[1;33m\u001b[0m\u001b[1;33m\u001b[0m\u001b[0m\n\u001b[1;32m-> 4551\u001b[1;33m             \u001b[1;32mraise\u001b[0m \u001b[0mKeyError\u001b[0m\u001b[1;33m(\u001b[0m\u001b[1;34mf\"None of {missing} are in the columns\"\u001b[0m\u001b[1;33m)\u001b[0m\u001b[1;33m\u001b[0m\u001b[1;33m\u001b[0m\u001b[0m\n\u001b[0m\u001b[0;32m   4552\u001b[0m \u001b[1;33m\u001b[0m\u001b[0m\n\u001b[0;32m   4553\u001b[0m         \u001b[1;32mif\u001b[0m \u001b[0minplace\u001b[0m\u001b[1;33m:\u001b[0m\u001b[1;33m\u001b[0m\u001b[1;33m\u001b[0m\u001b[0m\n",
      "\u001b[1;31mKeyError\u001b[0m: \"None of ['END'] are in the columns\""
     ]
    }
   ],
   "source": [
    "# MOVING COUNT GROUPING BY EXIT CODE -- \n",
    "\n",
    "group_by_exit_code = (full_sample\n",
    "                                 .groupby('EXITCODE')\n",
    "                                 .rolling('1h', \n",
    "                                          on = 'END')['JOBID']\n",
    "                                 .count()\n",
    "                                 .reset_index()\n",
    "                                 .set_index('END')\n",
    "                      )\n",
    "group_by_exit_code"
   ]
  },
  {
   "cell_type": "markdown",
   "metadata": {},
   "source": [
    "#### Using the two log files:\n",
    "\n",
    "### 3.\tCalculate some descriptive statistics about how often the scheduler was unresponsive, how long these periods of time were, and create a time series plot of when the scheduler was having difficulties."
   ]
  },
  {
   "cell_type": "code",
   "execution_count": 14,
   "metadata": {},
   "outputs": [],
   "source": [
    "ce5_raw = pd.read_table(\"../data/slurm_wrapper_ce5.log\", \n",
    "                        engine='python',\n",
    "                        sep=\" - \", \n",
    "                       # skiprows=[0], \n",
    "                       # header=0,\n",
    "                        names=['ce5_DateTime', \n",
    "                               'ce5_User', \n",
    "                               'ce5_Retry',\n",
    "                               'ce5_Time_Spent',\n",
    "                               'ce5_Return_Code',\n",
    "                               'ce5_Command']\n",
    "                       ) \n",
    "                        # parse_dates=[1]).rename(columns=lambda x: x.strip())"
   ]
  },
  {
   "cell_type": "code",
   "execution_count": 17,
   "metadata": {},
   "outputs": [
    {
     "name": "stdout",
     "output_type": "stream",
     "text": [
      "<class 'pandas.core.frame.DataFrame'>\n",
      "RangeIndex: 4770893 entries, 0 to 4770892\n",
      "Data columns (total 6 columns):\n",
      " #   Column       Dtype         \n",
      "---  ------       -----         \n",
      " 0   DateTime     datetime64[ns]\n",
      " 1   User         object        \n",
      " 2   Retry        object        \n",
      " 3   Time_Spent   object        \n",
      " 4   Return_Code  object        \n",
      " 5   Command      object        \n",
      "dtypes: datetime64[ns](1), object(5)\n",
      "memory usage: 218.4+ MB\n"
     ]
    },
    {
     "data": {
      "text/html": [
       "<div>\n",
       "<style scoped>\n",
       "    .dataframe tbody tr th:only-of-type {\n",
       "        vertical-align: middle;\n",
       "    }\n",
       "\n",
       "    .dataframe tbody tr th {\n",
       "        vertical-align: top;\n",
       "    }\n",
       "\n",
       "    .dataframe thead th {\n",
       "        text-align: right;\n",
       "    }\n",
       "</style>\n",
       "<table border=\"1\" class=\"dataframe\">\n",
       "  <thead>\n",
       "    <tr style=\"text-align: right;\">\n",
       "      <th></th>\n",
       "      <th>DateTime</th>\n",
       "      <th>User</th>\n",
       "      <th>Retry</th>\n",
       "      <th>Time_Spent</th>\n",
       "      <th>Return_Code</th>\n",
       "      <th>Command</th>\n",
       "    </tr>\n",
       "  </thead>\n",
       "  <tbody>\n",
       "    <tr>\n",
       "      <th>0</th>\n",
       "      <td>2020-10-16 08:15:39.278699</td>\n",
       "      <td>user 0</td>\n",
       "      <td>retry 0</td>\n",
       "      <td>time 0.07347559928894043</td>\n",
       "      <td>returncode 0</td>\n",
       "      <td>command ['/usr/bin/sacct', '-u', 'appelte1', '...</td>\n",
       "    </tr>\n",
       "    <tr>\n",
       "      <th>1</th>\n",
       "      <td>2020-10-16 08:18:08.313309</td>\n",
       "      <td>user 0</td>\n",
       "      <td>retry 0</td>\n",
       "      <td>time 0.18363237380981445</td>\n",
       "      <td>returncode 0</td>\n",
       "      <td>command ['/usr/bin/sacct', '-u', 'appelte1', '...</td>\n",
       "    </tr>\n",
       "    <tr>\n",
       "      <th>2</th>\n",
       "      <td>2020-10-16 08:22:48.128689</td>\n",
       "      <td>user 0</td>\n",
       "      <td>retry 0</td>\n",
       "      <td>time 0.07547116279602051</td>\n",
       "      <td>returncode 0</td>\n",
       "      <td>command ['/usr/bin/sacct', '-u', 'appelte1', '...</td>\n",
       "    </tr>\n",
       "    <tr>\n",
       "      <th>3</th>\n",
       "      <td>2020-10-16 08:25:13.257408</td>\n",
       "      <td>user 0</td>\n",
       "      <td>retry 0</td>\n",
       "      <td>time 0.09484362602233887</td>\n",
       "      <td>returncode 0</td>\n",
       "      <td>command ['/usr/bin/sacct', '-u', 'appelte1', '...</td>\n",
       "    </tr>\n",
       "    <tr>\n",
       "      <th>4</th>\n",
       "      <td>2020-10-16 08:31:01.460723</td>\n",
       "      <td>user 0</td>\n",
       "      <td>retry 0</td>\n",
       "      <td>time 0.07498788833618164</td>\n",
       "      <td>returncode 0</td>\n",
       "      <td>command ['/usr/bin/sacct', '-u', 'appelte1', '...</td>\n",
       "    </tr>\n",
       "  </tbody>\n",
       "</table>\n",
       "</div>"
      ],
      "text/plain": [
       "                    DateTime    User    Retry                Time_Spent  \\\n",
       "0 2020-10-16 08:15:39.278699  user 0  retry 0  time 0.07347559928894043   \n",
       "1 2020-10-16 08:18:08.313309  user 0  retry 0  time 0.18363237380981445   \n",
       "2 2020-10-16 08:22:48.128689  user 0  retry 0  time 0.07547116279602051   \n",
       "3 2020-10-16 08:25:13.257408  user 0  retry 0  time 0.09484362602233887   \n",
       "4 2020-10-16 08:31:01.460723  user 0  retry 0  time 0.07498788833618164   \n",
       "\n",
       "    Return_Code                                            Command  \n",
       "0  returncode 0  command ['/usr/bin/sacct', '-u', 'appelte1', '...  \n",
       "1  returncode 0  command ['/usr/bin/sacct', '-u', 'appelte1', '...  \n",
       "2  returncode 0  command ['/usr/bin/sacct', '-u', 'appelte1', '...  \n",
       "3  returncode 0  command ['/usr/bin/sacct', '-u', 'appelte1', '...  \n",
       "4  returncode 0  command ['/usr/bin/sacct', '-u', 'appelte1', '...  "
      ]
     },
     "metadata": {},
     "output_type": "display_data"
    }
   ],
   "source": [
    "ce5_raw.info()\n",
    "display(ce5_raw.head())"
   ]
  },
  {
   "cell_type": "code",
   "execution_count": 16,
   "metadata": {},
   "outputs": [],
   "source": [
    "ce5_raw['DateTime'] = pd.to_datetime(ce5_raw.DateTime)"
   ]
  },
  {
   "cell_type": "code",
   "execution_count": 19,
   "metadata": {},
   "outputs": [
    {
     "data": {
      "text/plain": [
       "Timedelta('356 days 13:43:38.414759')"
      ]
     },
     "metadata": {},
     "output_type": "display_data"
    }
   ],
   "source": [
    "ce5_hrs_range = ce5_raw['DateTime'].max() - ce5_raw['DateTime'].min()\n",
    "display(ce5_hrs_range)"
   ]
  },
  {
   "cell_type": "code",
   "execution_count": 20,
   "metadata": {},
   "outputs": [],
   "source": [
    "ce6_raw = pd.read_table(\"../data/slurm_wrapper_ce6.log\", \n",
    "                        engine='python',\n",
    "                        sep=\" - \", \n",
    "                       # skiprows=[0], \n",
    "                       # header=0,\n",
    "                        names=['ce6_DateTime', \n",
    "                               'ce6_User', \n",
    "                               'ce6_Retry',\n",
    "                               'ce6_Time_Spent',\n",
    "                               'ce6_Return_Code',\n",
    "                               'ce6_Command']\n",
    "                       ) \n",
    "                        # parse_dates=[1]).rename(columns=lambda x: x.strip())"
   ]
  },
  {
   "cell_type": "code",
   "execution_count": 21,
   "metadata": {},
   "outputs": [
    {
     "name": "stdout",
     "output_type": "stream",
     "text": [
      "<class 'pandas.core.frame.DataFrame'>\n",
      "RangeIndex: 4776520 entries, 0 to 4776519\n",
      "Data columns (total 6 columns):\n",
      " #   Column       Dtype \n",
      "---  ------       ----- \n",
      " 0   DateTime     object\n",
      " 1   User         object\n",
      " 2   Retry        object\n",
      " 3   Time_Spent   object\n",
      " 4   Return_Code  object\n",
      " 5   Command      object\n",
      "dtypes: object(6)\n",
      "memory usage: 218.7+ MB\n"
     ]
    },
    {
     "data": {
      "text/html": [
       "<div>\n",
       "<style scoped>\n",
       "    .dataframe tbody tr th:only-of-type {\n",
       "        vertical-align: middle;\n",
       "    }\n",
       "\n",
       "    .dataframe tbody tr th {\n",
       "        vertical-align: top;\n",
       "    }\n",
       "\n",
       "    .dataframe thead th {\n",
       "        text-align: right;\n",
       "    }\n",
       "</style>\n",
       "<table border=\"1\" class=\"dataframe\">\n",
       "  <thead>\n",
       "    <tr style=\"text-align: right;\">\n",
       "      <th></th>\n",
       "      <th>DateTime</th>\n",
       "      <th>User</th>\n",
       "      <th>Retry</th>\n",
       "      <th>Time_Spent</th>\n",
       "      <th>Return_Code</th>\n",
       "      <th>Command</th>\n",
       "    </tr>\n",
       "  </thead>\n",
       "  <tbody>\n",
       "    <tr>\n",
       "      <th>0</th>\n",
       "      <td>2020-10-16 10:37:44.163454</td>\n",
       "      <td>user 9202</td>\n",
       "      <td>retry 0</td>\n",
       "      <td>time 0.08495402336120605</td>\n",
       "      <td>returncode 0</td>\n",
       "      <td>command ['/usr/bin/scontrol', 'show', 'job', '...</td>\n",
       "    </tr>\n",
       "    <tr>\n",
       "      <th>1</th>\n",
       "      <td>2020-10-16 10:37:44.206654</td>\n",
       "      <td>user 9202</td>\n",
       "      <td>retry 0</td>\n",
       "      <td>time 0.08943057060241699</td>\n",
       "      <td>returncode 0</td>\n",
       "      <td>command ['/usr/bin/scontrol', 'show', 'job', '...</td>\n",
       "    </tr>\n",
       "    <tr>\n",
       "      <th>2</th>\n",
       "      <td>2020-10-16 10:37:44.218760</td>\n",
       "      <td>user 9202</td>\n",
       "      <td>retry 0</td>\n",
       "      <td>time 0.05928945541381836</td>\n",
       "      <td>returncode 0</td>\n",
       "      <td>command ['/usr/bin/scontrol', 'show', 'job', '...</td>\n",
       "    </tr>\n",
       "    <tr>\n",
       "      <th>3</th>\n",
       "      <td>2020-10-16 10:37:44.256403</td>\n",
       "      <td>user 9202</td>\n",
       "      <td>retry 0</td>\n",
       "      <td>time 0.038695573806762695</td>\n",
       "      <td>returncode 0</td>\n",
       "      <td>command ['/usr/bin/scontrol', 'show', 'job', '...</td>\n",
       "    </tr>\n",
       "    <tr>\n",
       "      <th>4</th>\n",
       "      <td>2020-10-16 10:37:44.611603</td>\n",
       "      <td>user 9202</td>\n",
       "      <td>retry 0</td>\n",
       "      <td>time 0.03343677520751953</td>\n",
       "      <td>returncode 0</td>\n",
       "      <td>command ['/usr/bin/scontrol', 'show', 'job', '...</td>\n",
       "    </tr>\n",
       "  </tbody>\n",
       "</table>\n",
       "</div>"
      ],
      "text/plain": [
       "                     DateTime       User    Retry                 Time_Spent  \\\n",
       "0  2020-10-16 10:37:44.163454  user 9202  retry 0   time 0.08495402336120605   \n",
       "1  2020-10-16 10:37:44.206654  user 9202  retry 0   time 0.08943057060241699   \n",
       "2  2020-10-16 10:37:44.218760  user 9202  retry 0   time 0.05928945541381836   \n",
       "3  2020-10-16 10:37:44.256403  user 9202  retry 0  time 0.038695573806762695   \n",
       "4  2020-10-16 10:37:44.611603  user 9202  retry 0   time 0.03343677520751953   \n",
       "\n",
       "    Return_Code                                            Command  \n",
       "0  returncode 0  command ['/usr/bin/scontrol', 'show', 'job', '...  \n",
       "1  returncode 0  command ['/usr/bin/scontrol', 'show', 'job', '...  \n",
       "2  returncode 0  command ['/usr/bin/scontrol', 'show', 'job', '...  \n",
       "3  returncode 0  command ['/usr/bin/scontrol', 'show', 'job', '...  \n",
       "4  returncode 0  command ['/usr/bin/scontrol', 'show', 'job', '...  "
      ]
     },
     "metadata": {},
     "output_type": "display_data"
    }
   ],
   "source": [
    "ce6_raw.info()\n",
    "display(ce6_raw.head())"
   ]
  },
  {
   "cell_type": "code",
   "execution_count": 22,
   "metadata": {},
   "outputs": [],
   "source": [
    "ce6_raw['DateTime'] = pd.to_datetime(ce6_raw.DateTime)"
   ]
  },
  {
   "cell_type": "code",
   "execution_count": 23,
   "metadata": {},
   "outputs": [
    {
     "data": {
      "text/plain": [
       "Timedelta('356 days 11:22:36.756104')"
      ]
     },
     "metadata": {},
     "output_type": "display_data"
    }
   ],
   "source": [
    "ce6_hrs_range = ce6_raw['DateTime'].max() - ce6_raw['DateTime'].min()\n",
    "display(ce6_hrs_range)"
   ]
  },
  {
   "cell_type": "markdown",
   "metadata": {},
   "source": [
    "### 4.\tFinally, combine the time series information from the two datasets together to see how well correlated heavy job-completion load is with the unresponsiveness, and to see if there is some threshold of job completions per hour that generally results in unresponsiveness."
   ]
  },
  {
   "cell_type": "code",
   "execution_count": null,
   "metadata": {},
   "outputs": [],
   "source": []
  }
 ],
 "metadata": {
  "kernelspec": {
   "display_name": "Python 3",
   "language": "python",
   "name": "python3"
  },
  "language_info": {
   "codemirror_mode": {
    "name": "ipython",
    "version": 3
   },
   "file_extension": ".py",
   "mimetype": "text/x-python",
   "name": "python",
   "nbconvert_exporter": "python",
   "pygments_lexer": "ipython3",
   "version": "3.8.5"
  }
 },
 "nbformat": 4,
 "nbformat_minor": 5
}
