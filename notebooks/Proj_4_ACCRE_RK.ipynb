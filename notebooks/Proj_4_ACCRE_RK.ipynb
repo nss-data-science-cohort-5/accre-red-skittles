{
 "cells": [
  {
   "cell_type": "markdown",
   "metadata": {},
   "source": [
    "<h2 align='center'>PROJECT 4 - ACCRE</h2>"
   ]
  },
  {
   "cell_type": "markdown",
   "metadata": {},
   "source": [
    "#### Using just the fullsample.csv jobs dataset:\n",
    "\n",
    "### 1. Calculate some descriptive statistics for how many jobs per hour are being completed. What does the completions per hour look like over the time span of the dataset? Are there weekly trends, and has it been increasing over the last year?"
   ]
  },
  {
   "cell_type": "code",
   "execution_count": 1,
   "metadata": {},
   "outputs": [],
   "source": [
    "from dateutil.parser import parse\n",
    "import matplotlib.pyplot as plt\n",
    "import numpy as np\n",
    "import pandas as pd"
   ]
  },
  {
   "cell_type": "code",
   "execution_count": 2,
   "metadata": {},
   "outputs": [],
   "source": [
    "full_sample = pd.read_csv('../data/fullsample.csv',\n",
    "                          usecols = [0,1,2,3,\n",
    "                                     6,7,\n",
    "                                     10,11])"
   ]
  },
  {
   "cell_type": "code",
   "execution_count": 3,
   "metadata": {},
   "outputs": [
    {
     "name": "stdout",
     "output_type": "stream",
     "text": [
      "<class 'pandas.core.frame.DataFrame'>\n",
      "RangeIndex: 7395885 entries, 0 to 7395884\n",
      "Data columns (total 8 columns):\n",
      " #   Column     Dtype \n",
      "---  ------     ----- \n",
      " 0   JOBID      object\n",
      " 1   STATE      object\n",
      " 2   BEGIN      object\n",
      " 3   END        object\n",
      " 4   REQTIME    object\n",
      " 5   USEDTIME   object\n",
      " 6   PARTITION  object\n",
      " 7   EXITCODE   object\n",
      "dtypes: object(8)\n",
      "memory usage: 451.4+ MB\n"
     ]
    },
    {
     "data": {
      "text/html": [
       "<div>\n",
       "<style scoped>\n",
       "    .dataframe tbody tr th:only-of-type {\n",
       "        vertical-align: middle;\n",
       "    }\n",
       "\n",
       "    .dataframe tbody tr th {\n",
       "        vertical-align: top;\n",
       "    }\n",
       "\n",
       "    .dataframe thead th {\n",
       "        text-align: right;\n",
       "    }\n",
       "</style>\n",
       "<table border=\"1\" class=\"dataframe\">\n",
       "  <thead>\n",
       "    <tr style=\"text-align: right;\">\n",
       "      <th></th>\n",
       "      <th>JOBID</th>\n",
       "      <th>STATE</th>\n",
       "      <th>BEGIN</th>\n",
       "      <th>END</th>\n",
       "      <th>REQTIME</th>\n",
       "      <th>USEDTIME</th>\n",
       "      <th>PARTITION</th>\n",
       "      <th>EXITCODE</th>\n",
       "    </tr>\n",
       "  </thead>\n",
       "  <tbody>\n",
       "    <tr>\n",
       "      <th>0</th>\n",
       "      <td>30616928</td>\n",
       "      <td>RUNNING</td>\n",
       "      <td>2021-07-31T22:15:00</td>\n",
       "      <td>Unknown</td>\n",
       "      <td>10:04:00</td>\n",
       "      <td>67-22:14:22</td>\n",
       "      <td>production</td>\n",
       "      <td>0:0</td>\n",
       "    </tr>\n",
       "    <tr>\n",
       "      <th>1</th>\n",
       "      <td>30853133</td>\n",
       "      <td>COMPLETED</td>\n",
       "      <td>2021-08-06T11:36:09</td>\n",
       "      <td>2021-09-05T11:36:32</td>\n",
       "      <td>30-00:00:00</td>\n",
       "      <td>30-00:00:23</td>\n",
       "      <td>cgw-platypus</td>\n",
       "      <td>0:0</td>\n",
       "    </tr>\n",
       "    <tr>\n",
       "      <th>2</th>\n",
       "      <td>30858137</td>\n",
       "      <td>COMPLETED</td>\n",
       "      <td>2021-08-06T19:04:39</td>\n",
       "      <td>2021-09-05T19:04:53</td>\n",
       "      <td>30-00:00:00</td>\n",
       "      <td>30-00:00:14</td>\n",
       "      <td>cgw-tbi01</td>\n",
       "      <td>0:0</td>\n",
       "    </tr>\n",
       "    <tr>\n",
       "      <th>3</th>\n",
       "      <td>30935078</td>\n",
       "      <td>COMPLETED</td>\n",
       "      <td>2021-08-09T16:52:51</td>\n",
       "      <td>2021-09-07T20:52:55</td>\n",
       "      <td>29-04:00:00</td>\n",
       "      <td>29-04:00:04</td>\n",
       "      <td>cgw-platypus</td>\n",
       "      <td>0:0</td>\n",
       "    </tr>\n",
       "    <tr>\n",
       "      <th>4</th>\n",
       "      <td>31364111_2</td>\n",
       "      <td>COMPLETED</td>\n",
       "      <td>2021-08-17T07:45:07</td>\n",
       "      <td>2021-09-10T16:45:24</td>\n",
       "      <td>24-09:00:00</td>\n",
       "      <td>24-09:00:17</td>\n",
       "      <td>production</td>\n",
       "      <td>0:0</td>\n",
       "    </tr>\n",
       "  </tbody>\n",
       "</table>\n",
       "</div>"
      ],
      "text/plain": [
       "        JOBID      STATE                BEGIN                  END  \\\n",
       "0    30616928    RUNNING  2021-07-31T22:15:00              Unknown   \n",
       "1    30853133  COMPLETED  2021-08-06T11:36:09  2021-09-05T11:36:32   \n",
       "2    30858137  COMPLETED  2021-08-06T19:04:39  2021-09-05T19:04:53   \n",
       "3    30935078  COMPLETED  2021-08-09T16:52:51  2021-09-07T20:52:55   \n",
       "4  31364111_2  COMPLETED  2021-08-17T07:45:07  2021-09-10T16:45:24   \n",
       "\n",
       "       REQTIME     USEDTIME     PARTITION EXITCODE  \n",
       "0     10:04:00  67-22:14:22    production      0:0  \n",
       "1  30-00:00:00  30-00:00:23  cgw-platypus      0:0  \n",
       "2  30-00:00:00  30-00:00:14     cgw-tbi01      0:0  \n",
       "3  29-04:00:00  29-04:00:04  cgw-platypus      0:0  \n",
       "4  24-09:00:00  24-09:00:17    production      0:0  "
      ]
     },
     "metadata": {},
     "output_type": "display_data"
    }
   ],
   "source": [
    "full_sample.info()\n",
    "display(full_sample.head())"
   ]
  },
  {
   "cell_type": "code",
   "execution_count": 4,
   "metadata": {},
   "outputs": [],
   "source": [
    "full_sample['BEGIN'] = pd.to_datetime(full_sample['BEGIN'],\n",
    "                                      errors = 'coerce')"
   ]
  },
  {
   "cell_type": "code",
   "execution_count": 5,
   "metadata": {},
   "outputs": [],
   "source": [
    "full_sample['END'] = pd.to_datetime(full_sample['END'],\n",
    "                                    errors = 'coerce')"
   ]
  },
  {
   "cell_type": "code",
   "execution_count": 6,
   "metadata": {},
   "outputs": [],
   "source": [
    "full_sample = full_sample.sort_values('END')"
   ]
  },
  {
   "cell_type": "code",
   "execution_count": 7,
   "metadata": {},
   "outputs": [
    {
     "data": {
      "text/html": [
       "<div>\n",
       "<style scoped>\n",
       "    .dataframe tbody tr th:only-of-type {\n",
       "        vertical-align: middle;\n",
       "    }\n",
       "\n",
       "    .dataframe tbody tr th {\n",
       "        vertical-align: top;\n",
       "    }\n",
       "\n",
       "    .dataframe thead th {\n",
       "        text-align: right;\n",
       "    }\n",
       "</style>\n",
       "<table border=\"1\" class=\"dataframe\">\n",
       "  <thead>\n",
       "    <tr style=\"text-align: right;\">\n",
       "      <th></th>\n",
       "      <th>JOBID</th>\n",
       "      <th>STATE</th>\n",
       "      <th>BEGIN</th>\n",
       "      <th>END</th>\n",
       "      <th>REQTIME</th>\n",
       "      <th>USEDTIME</th>\n",
       "      <th>PARTITION</th>\n",
       "      <th>EXITCODE</th>\n",
       "    </tr>\n",
       "  </thead>\n",
       "  <tbody>\n",
       "    <tr>\n",
       "      <th>0</th>\n",
       "      <td>30616928</td>\n",
       "      <td>RUNNING</td>\n",
       "      <td>2021-07-31 22:15:00</td>\n",
       "      <td>NaT</td>\n",
       "      <td>10:04:00</td>\n",
       "      <td>67-22:14:22</td>\n",
       "      <td>production</td>\n",
       "      <td>0:0</td>\n",
       "    </tr>\n",
       "    <tr>\n",
       "      <th>7343</th>\n",
       "      <td>31874232_1949</td>\n",
       "      <td>RUNNING</td>\n",
       "      <td>2021-08-31 23:55:05</td>\n",
       "      <td>NaT</td>\n",
       "      <td>00:15:00</td>\n",
       "      <td>36-20:34:17</td>\n",
       "      <td>production</td>\n",
       "      <td>0:0</td>\n",
       "    </tr>\n",
       "    <tr>\n",
       "      <th>7650</th>\n",
       "      <td>31874232_2461</td>\n",
       "      <td>RUNNING</td>\n",
       "      <td>2021-08-31 23:58:07</td>\n",
       "      <td>NaT</td>\n",
       "      <td>00:15:00</td>\n",
       "      <td>36-20:31:15</td>\n",
       "      <td>production</td>\n",
       "      <td>0:0</td>\n",
       "    </tr>\n",
       "    <tr>\n",
       "      <th>7676</th>\n",
       "      <td>31874232_2487</td>\n",
       "      <td>RUNNING</td>\n",
       "      <td>2021-08-31 23:58:07</td>\n",
       "      <td>NaT</td>\n",
       "      <td>00:15:00</td>\n",
       "      <td>36-20:31:15</td>\n",
       "      <td>production</td>\n",
       "      <td>0:0</td>\n",
       "    </tr>\n",
       "    <tr>\n",
       "      <th>8621</th>\n",
       "      <td>31874232_3432</td>\n",
       "      <td>RUNNING</td>\n",
       "      <td>2021-09-01 00:03:07</td>\n",
       "      <td>NaT</td>\n",
       "      <td>00:15:00</td>\n",
       "      <td>36-20:26:15</td>\n",
       "      <td>production</td>\n",
       "      <td>0:0</td>\n",
       "    </tr>\n",
       "    <tr>\n",
       "      <th>...</th>\n",
       "      <td>...</td>\n",
       "      <td>...</td>\n",
       "      <td>...</td>\n",
       "      <td>...</td>\n",
       "      <td>...</td>\n",
       "      <td>...</td>\n",
       "      <td>...</td>\n",
       "      <td>...</td>\n",
       "    </tr>\n",
       "    <tr>\n",
       "      <th>927267</th>\n",
       "      <td>32922493</td>\n",
       "      <td>RUNNING</td>\n",
       "      <td>2021-10-07 09:13:25</td>\n",
       "      <td>NaT</td>\n",
       "      <td>2-00:00:00</td>\n",
       "      <td>11:15:57</td>\n",
       "      <td>nogpfs</td>\n",
       "      <td>0:0</td>\n",
       "    </tr>\n",
       "    <tr>\n",
       "      <th>927268</th>\n",
       "      <td>32922526</td>\n",
       "      <td>RUNNING</td>\n",
       "      <td>2021-10-07 09:18:25</td>\n",
       "      <td>NaT</td>\n",
       "      <td>2-00:00:00</td>\n",
       "      <td>11:10:57</td>\n",
       "      <td>nogpfs</td>\n",
       "      <td>0:0</td>\n",
       "    </tr>\n",
       "    <tr>\n",
       "      <th>927269</th>\n",
       "      <td>32922527</td>\n",
       "      <td>RUNNING</td>\n",
       "      <td>2021-10-07 09:25:25</td>\n",
       "      <td>NaT</td>\n",
       "      <td>2-00:00:00</td>\n",
       "      <td>11:03:57</td>\n",
       "      <td>nogpfs</td>\n",
       "      <td>0:0</td>\n",
       "    </tr>\n",
       "    <tr>\n",
       "      <th>927270</th>\n",
       "      <td>32922542</td>\n",
       "      <td>RUNNING</td>\n",
       "      <td>2021-10-07 09:36:25</td>\n",
       "      <td>NaT</td>\n",
       "      <td>2-00:00:00</td>\n",
       "      <td>10:52:57</td>\n",
       "      <td>nogpfs</td>\n",
       "      <td>0:0</td>\n",
       "    </tr>\n",
       "    <tr>\n",
       "      <th>927271</th>\n",
       "      <td>32922545</td>\n",
       "      <td>RUNNING</td>\n",
       "      <td>2021-10-07 13:29:25</td>\n",
       "      <td>NaT</td>\n",
       "      <td>2-00:00:00</td>\n",
       "      <td>06:59:57</td>\n",
       "      <td>nogpfs</td>\n",
       "      <td>0:0</td>\n",
       "    </tr>\n",
       "  </tbody>\n",
       "</table>\n",
       "<p>651 rows × 8 columns</p>\n",
       "</div>"
      ],
      "text/plain": [
       "                JOBID    STATE               BEGIN END     REQTIME  \\\n",
       "0            30616928  RUNNING 2021-07-31 22:15:00 NaT    10:04:00   \n",
       "7343    31874232_1949  RUNNING 2021-08-31 23:55:05 NaT    00:15:00   \n",
       "7650    31874232_2461  RUNNING 2021-08-31 23:58:07 NaT    00:15:00   \n",
       "7676    31874232_2487  RUNNING 2021-08-31 23:58:07 NaT    00:15:00   \n",
       "8621    31874232_3432  RUNNING 2021-09-01 00:03:07 NaT    00:15:00   \n",
       "...               ...      ...                 ...  ..         ...   \n",
       "927267       32922493  RUNNING 2021-10-07 09:13:25 NaT  2-00:00:00   \n",
       "927268       32922526  RUNNING 2021-10-07 09:18:25 NaT  2-00:00:00   \n",
       "927269       32922527  RUNNING 2021-10-07 09:25:25 NaT  2-00:00:00   \n",
       "927270       32922542  RUNNING 2021-10-07 09:36:25 NaT  2-00:00:00   \n",
       "927271       32922545  RUNNING 2021-10-07 13:29:25 NaT  2-00:00:00   \n",
       "\n",
       "           USEDTIME   PARTITION EXITCODE  \n",
       "0       67-22:14:22  production      0:0  \n",
       "7343    36-20:34:17  production      0:0  \n",
       "7650    36-20:31:15  production      0:0  \n",
       "7676    36-20:31:15  production      0:0  \n",
       "8621    36-20:26:15  production      0:0  \n",
       "...             ...         ...      ...  \n",
       "927267     11:15:57      nogpfs      0:0  \n",
       "927268     11:10:57      nogpfs      0:0  \n",
       "927269     11:03:57      nogpfs      0:0  \n",
       "927270     10:52:57      nogpfs      0:0  \n",
       "927271     06:59:57      nogpfs      0:0  \n",
       "\n",
       "[651 rows x 8 columns]"
      ]
     },
     "execution_count": 7,
     "metadata": {},
     "output_type": "execute_result"
    }
   ],
   "source": [
    "full_sample[full_sample['END'].isnull()]"
   ]
  },
  {
   "cell_type": "code",
   "execution_count": 8,
   "metadata": {},
   "outputs": [
    {
     "data": {
      "text/plain": [
       "6640577    1.0\n",
       "6640635    2.0\n",
       "6640627    3.0\n",
       "6640651    4.0\n",
       "6640654    5.0\n",
       "          ... \n",
       "927386     9.0\n",
       "927387     9.0\n",
       "927388     8.0\n",
       "1491977    9.0\n",
       "1491978    9.0\n",
       "Name: JOBID, Length: 7395234, dtype: float64"
      ]
     },
     "execution_count": 8,
     "metadata": {},
     "output_type": "execute_result"
    }
   ],
   "source": [
    "# MOVING COUNT OF JOBS PER HOUR -- MUST USE \"notnull()\" AS IN HABEEB'S CODE\n",
    "#   OR YOU WILL GET \"'END' MUST BE MONOTONIC\" ERROR \n",
    "\n",
    "# full_sample['jobs_per_hour'] =\n",
    "\n",
    "full_sample[full_sample['END'].notnull()]\\\n",
    "                                          .rolling('1h', \n",
    "                                                   on = 'END')['JOBID']\\\n",
    "                                          .count()\n",
    "# display(full_sample.head())"
   ]
  },
  {
   "cell_type": "code",
   "execution_count": null,
   "metadata": {},
   "outputs": [],
   "source": [
    "# THIS TAKES WAY TOO LONG TO GRAPH - TODO 10/30\n",
    "\n",
    "# full_sample[full_sample['END'].notnull()].plot(kind = 'line',\n",
    "#                                               x = 'END',\n",
    "#                                               y = 'jobs_per_hour');"
   ]
  },
  {
   "cell_type": "code",
   "execution_count": 10,
   "metadata": {},
   "outputs": [],
   "source": [
    "# full_sample[full_sample['END'].notnull()]['END'].dt.date"
   ]
  },
  {
   "cell_type": "code",
   "execution_count": null,
   "metadata": {},
   "outputs": [],
   "source": [
    "# IS describe() USEFUL HERE? -- TODO 10/30\n",
    "\n",
    "# full_sample\\\n",
    "#            .groupby('END'.dt.date)['jobs_per_hour']\\\n",
    "#            .describe()"
   ]
  },
  {
   "cell_type": "code",
   "execution_count": null,
   "metadata": {},
   "outputs": [],
   "source": [
    "# GROUP BY YEAR-MONTH-DAY-HOUR?\n",
    "\n",
    "# jobs_by_day_hour = (full_sample[full_sample['END'].notnull()]\n",
    "#                               .groupby(['END'])\n",
    "#                               .rolling('1h', \n",
    "#                                        on = 'END')['JOBID']\n",
    "#                               .count()\n",
    "#                               .reset_index()\n",
    "#                               .set_index('END')\n",
    "#                   )\n",
    "# jobs_by_day_hour"
   ]
  },
  {
   "cell_type": "code",
   "execution_count": null,
   "metadata": {},
   "outputs": [],
   "source": [
    "job_state_counts = full_sample\\\n",
    "                               .groupby('STATE')['JOBID']\\\n",
    "                               .count()\\\n",
    "                               .sort_values(ascending=False)\n",
    "                    #          .describe()\n",
    "job_state_counts"
   ]
  },
  {
   "cell_type": "code",
   "execution_count": null,
   "metadata": {},
   "outputs": [],
   "source": [
    "# full_sample['STATE'].unique()"
   ]
  },
  {
   "cell_type": "code",
   "execution_count": null,
   "metadata": {},
   "outputs": [],
   "source": [
    "# zero_exits = full_sample[(full_sample['STATE']!='COMPLETED') & (full_sample['EXITCODE'] == '0:0')]\n",
    "# print(zero_exits['STATE'].unique())"
   ]
  },
  {
   "cell_type": "markdown",
   "metadata": {},
   "source": [
    "#### Using just the fullsample.csv jobs dataset:\n",
    "\n",
    "### 2. Does the job state affect completions per hour? i.e. if I only look at jobs with exit code 0:0 in the \"COMPLETED\" state, is that a similar number of completions per hour as with all jobs, failed or cancelled? This will indicate if the load on the scheduler is by user design or is a result of users not sufficiently testing their jobs before submitting very large arrays. We also expect that most job completions will be in the \"production\" partition, but is this actually true?"
   ]
  },
  {
   "cell_type": "code",
   "execution_count": null,
   "metadata": {},
   "outputs": [],
   "source": [
    "'''\n",
    "EXITCODE 0:0            = SUCCESS\n",
    "         0:15, 0:9, 0:2 = CANCELLED\n",
    "         1:0, 2.0       = FAILED\n",
    "'''\n",
    "exit_code_counts = full_sample\\\n",
    "                               .groupby('EXITCODE')['JOBID']\\\n",
    "                               .count()\\\n",
    "                               .sort_values(ascending=False)\n",
    "exit_code_counts"
   ]
  },
  {
   "cell_type": "code",
   "execution_count": null,
   "metadata": {},
   "outputs": [],
   "source": [
    "# MOVING COUNT GROUPING BY EXIT CODE -- \n",
    "\n",
    "group_by_exit_code = (full_sample    # full_sample[full_sample['END'].notnull()]\n",
    "                                 .groupby('EXITCODE')\n",
    "                                 .rolling('1h', \n",
    "                                          on = 'END')['JOBID']\n",
    "                                 .count()\n",
    "                                 .reset_index()\n",
    "                                 .set_index('END')\n",
    "                      )\n",
    "group_by_exit_code"
   ]
  },
  {
   "cell_type": "markdown",
   "metadata": {},
   "source": [
    "#### Using the two log files:\n",
    "\n",
    "### 3.\tCalculate some descriptive statistics about how often the scheduler was unresponsive, how long these periods of time were, and create a time series plot of when the scheduler was having difficulties."
   ]
  },
  {
   "cell_type": "code",
   "execution_count": null,
   "metadata": {},
   "outputs": [],
   "source": [
    "ce5_raw = pd.read_table(\"../data/slurm_wrapper_ce5.log\", \n",
    "                        engine='python',\n",
    "                        sep=\" - \", \n",
    "                       # skiprows=[0], \n",
    "                       # header=0,\n",
    "                        names=['ce5_DateTime', \n",
    "                               'ce5_User', \n",
    "                               'ce5_Retry',\n",
    "                               'ce5_Time_Spent',\n",
    "                               'ce5_Return_Code',\n",
    "                               'ce5_Command']\n",
    "                       ) \n",
    "                        # parse_dates=[1]).rename(columns=lambda x: x.strip())"
   ]
  },
  {
   "cell_type": "code",
   "execution_count": null,
   "metadata": {},
   "outputs": [],
   "source": [
    "ce5_raw.info()\n",
    "display(ce5_raw.head())"
   ]
  },
  {
   "cell_type": "code",
   "execution_count": null,
   "metadata": {},
   "outputs": [],
   "source": [
    "ce5_raw['DateTime'] = pd.to_datetime(ce5_raw.DateTime)"
   ]
  },
  {
   "cell_type": "code",
   "execution_count": null,
   "metadata": {},
   "outputs": [],
   "source": [
    "ce5_hrs_range = ce5_raw['DateTime'].max() - ce5_raw['DateTime'].min()\n",
    "display(ce5_hrs_range)"
   ]
  },
  {
   "cell_type": "code",
   "execution_count": null,
   "metadata": {},
   "outputs": [],
   "source": [
    "ce6_raw = pd.read_table(\"../data/slurm_wrapper_ce6.log\", \n",
    "                        engine='python',\n",
    "                        sep=\" - \", \n",
    "                       # skiprows=[0], \n",
    "                       # header=0,\n",
    "                        names=['ce6_DateTime', \n",
    "                               'ce6_User', \n",
    "                               'ce6_Retry',\n",
    "                               'ce6_Time_Spent',\n",
    "                               'ce6_Return_Code',\n",
    "                               'ce6_Command']\n",
    "                       ) \n",
    "                        # parse_dates=[1]).rename(columns=lambda x: x.strip())"
   ]
  },
  {
   "cell_type": "code",
   "execution_count": null,
   "metadata": {},
   "outputs": [],
   "source": [
    "ce6_raw.info()\n",
    "display(ce6_raw.head())"
   ]
  },
  {
   "cell_type": "code",
   "execution_count": null,
   "metadata": {},
   "outputs": [],
   "source": [
    "ce6_raw['DateTime'] = pd.to_datetime(ce6_raw.DateTime)"
   ]
  },
  {
   "cell_type": "code",
   "execution_count": null,
   "metadata": {},
   "outputs": [],
   "source": [
    "ce6_hrs_range = ce6_raw['DateTime'].max() - ce6_raw['DateTime'].min()\n",
    "display(ce6_hrs_range)"
   ]
  },
  {
   "cell_type": "markdown",
   "metadata": {},
   "source": [
    "### 4.\tFinally, combine the time series information from the two datasets together to see how well correlated heavy job-completion load is with the unresponsiveness, and to see if there is some threshold of job completions per hour that generally results in unresponsiveness."
   ]
  },
  {
   "cell_type": "code",
   "execution_count": null,
   "metadata": {},
   "outputs": [],
   "source": []
  }
 ],
 "metadata": {
  "kernelspec": {
   "display_name": "Python 3",
   "language": "python",
   "name": "python3"
  },
  "language_info": {
   "codemirror_mode": {
    "name": "ipython",
    "version": 3
   },
   "file_extension": ".py",
   "mimetype": "text/x-python",
   "name": "python",
   "nbconvert_exporter": "python",
   "pygments_lexer": "ipython3",
   "version": "3.8.5"
  }
 },
 "nbformat": 4,
 "nbformat_minor": 5
}
