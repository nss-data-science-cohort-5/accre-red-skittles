{
 "cells": [
  {
   "cell_type": "markdown",
   "metadata": {},
   "source": [
    "# ACCRE Project - Data Import and Cleaning"
   ]
  },
  {
   "cell_type": "code",
   "execution_count": 1,
   "metadata": {},
   "outputs": [],
   "source": [
    "import pandas as pd\n",
    "import matplotlib.pyplot as plt\n",
    "from matplotlib.dates import DateFormatter\n",
    "import matplotlib.dates as mdates\n",
    "import re"
   ]
  },
  {
   "cell_type": "code",
   "execution_count": 2,
   "metadata": {},
   "outputs": [],
   "source": [
    "# Read in fullsample.csv as a dataframe\n",
    "jobs = pd.read_csv(\"../data/fullsample.csv\")"
   ]
  },
  {
   "cell_type": "code",
   "execution_count": 3,
   "metadata": {
    "scrolled": false
   },
   "outputs": [],
   "source": [
    "# Convert BEGIN and END columns to datetime type\n",
    "jobs['BEGIN'] = pd.to_datetime(jobs['BEGIN'], errors='coerce')\n",
    "jobs['END'] = pd.to_datetime(jobs['END'], errors='coerce')\n",
    "\n",
    "# Drop all columns with null type in BEGIN or END columns\n",
    "jobs = jobs.dropna(subset=['BEGIN', 'END'])\n",
    "\n",
    "# Calculate length of jobs and assign in new column JOBLENGTH\n",
    "jobs['JOBLENGTH'] = jobs['END'] - jobs['BEGIN']\n",
    "\n",
    "# Convert REQTIME and USEDTIME columns to timedelta type\n",
    "jobs['REQTIME'] = pd.to_timedelta(jobs['REQTIME'])\n",
    "jobs['USEDTIME'] = pd.to_timedelta(jobs['USEDTIME'])"
   ]
  },
  {
   "cell_type": "code",
   "execution_count": 4,
   "metadata": {},
   "outputs": [],
   "source": [
    "# Calculate total memory and memory per core for each job\n",
    "for row_tuple in jobs.itertuples():\n",
    "    memory = row_tuple[5]\n",
    "    memory_int = int(re.findall(r'\\d+', memory)[0]) \n",
    "    nodes = row_tuple[9] \n",
    "    cpus = row_tuple[10]\n",
    "    \n",
    "    if 'Mn' in memory:\n",
    "        total_memory = memory_int * nodes\n",
    "        jobs.at[row_tuple[0], 'REQMEMTOT'] = total_memory\n",
    "        if cpus == 0:\n",
    "            jobs.at[row_tuple[0], 'REQMEMPERCORE'] = total_memory\n",
    "        else:\n",
    "            jobs.at[row_tuple[0], 'REQMEMPERCORE'] = total_memory / cpus\n",
    "    elif 'Mc' in memory:\n",
    "        total_memory = memory_int * cpus\n",
    "        jobs.at[row_tuple[0], 'REQMEMTOT'] = total_memory\n",
    "        jobs.at[row_tuple[0], 'REQMEMPERCORE'] = memory_int"
   ]
  },
  {
   "cell_type": "code",
   "execution_count": 5,
   "metadata": {},
   "outputs": [],
   "source": [
    "# Export cleaned dataframe as a csv\n",
    "jobs.to_csv('../data/fullsample_cleaned.csv', index=False)"
   ]
  }
 ],
 "metadata": {
  "kernelspec": {
   "display_name": "Python 3",
   "language": "python",
   "name": "python3"
  },
  "language_info": {
   "codemirror_mode": {
    "name": "ipython",
    "version": 3
   },
   "file_extension": ".py",
   "mimetype": "text/x-python",
   "name": "python",
   "nbconvert_exporter": "python",
   "pygments_lexer": "ipython3",
   "version": "3.8.5"
  }
 },
 "nbformat": 4,
 "nbformat_minor": 4
}
