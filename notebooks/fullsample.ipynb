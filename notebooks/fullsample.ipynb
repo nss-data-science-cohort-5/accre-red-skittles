{
 "cells": [
  {
   "cell_type": "code",
   "execution_count": 25,
   "outputs": [],
   "source": [
    "from datetime import datetime\n",
    "\n",
    "import pandas as pd"
   ],
   "metadata": {
    "collapsed": false,
    "pycharm": {
     "name": "#%%\n"
    }
   }
  },
  {
   "cell_type": "code",
   "execution_count": 31,
   "outputs": [],
   "source": [
    "def date_parser(x):\n",
    "    if str.lower(x) == 'unknown':\n",
    "        return None\n",
    "    return datetime.strptime(x, '%Y-%m-%dT%H:%M:%S')\n",
    "\n",
    "df = pd.read_csv('../data/fullsample.csv',\n",
    "                 parse_dates=['BEGIN', 'END'],\n",
    "                 date_parser=date_parser)\n"
   ],
   "metadata": {
    "collapsed": false,
    "pycharm": {
     "name": "#%%\n"
    }
   }
  },
  {
   "cell_type": "code",
   "execution_count": 32,
   "outputs": [
    {
     "name": "stdout",
     "output_type": "stream",
     "text": [
      "<class 'pandas.core.frame.DataFrame'>\n",
      "RangeIndex: 7395885 entries, 0 to 7395884\n",
      "Data columns (total 12 columns):\n",
      " #   Column     Dtype         \n",
      "---  ------     -----         \n",
      " 0   jobid      object        \n",
      " 1   state      object        \n",
      " 2   begin      datetime64[ns]\n",
      " 3   end        datetime64[ns]\n",
      " 4   reqmem     object        \n",
      " 5   usedmem    object        \n",
      " 6   reqtime    object        \n",
      " 7   usedtime   object        \n",
      " 8   nodes      int64         \n",
      " 9   cpus       int64         \n",
      " 10  partition  object        \n",
      " 11  exitcode   object        \n",
      "dtypes: datetime64[ns](2), int64(2), object(8)\n",
      "memory usage: 677.1+ MB\n"
     ]
    }
   ],
   "source": [
    "df = df.rename(columns=str.lower)\n",
    "df.info()"
   ],
   "metadata": {
    "collapsed": false,
    "pycharm": {
     "name": "#%%\n"
    }
   }
  },
  {
   "cell_type": "code",
   "execution_count": 36,
   "outputs": [],
   "source": [
    "df['lifespan'] = df['end'] - df['begin']\n"
   ],
   "metadata": {
    "collapsed": false,
    "pycharm": {
     "name": "#%%\n"
    }
   }
  },
  {
   "cell_type": "code",
   "execution_count": 37,
   "outputs": [
    {
     "data": {
      "text/plain": "0                      NaT\n1         30 days 00:00:23\n2         30 days 00:00:14\n3         29 days 04:00:04\n4         24 days 09:00:17\n                ...       \n7395880    0 days 00:01:46\n7395881    0 days 00:01:25\n7395882    0 days 00:03:14\n7395883    0 days 00:01:56\n7395884    0 days 00:03:08\nName: lifespan, Length: 7395885, dtype: timedelta64[ns]"
     },
     "execution_count": 37,
     "metadata": {},
     "output_type": "execute_result"
    }
   ],
   "source": [
    "df['lifespan']"
   ],
   "metadata": {
    "collapsed": false,
    "pycharm": {
     "name": "#%%\n"
    }
   }
  }
 ],
 "metadata": {
  "kernelspec": {
   "display_name": "Python 3",
   "language": "python",
   "name": "python3"
  },
  "language_info": {
   "codemirror_mode": {
    "name": "ipython",
    "version": 2
   },
   "file_extension": ".py",
   "mimetype": "text/x-python",
   "name": "python",
   "nbconvert_exporter": "python",
   "pygments_lexer": "ipython2",
   "version": "2.7.6"
  }
 },
 "nbformat": 4,
 "nbformat_minor": 0
}