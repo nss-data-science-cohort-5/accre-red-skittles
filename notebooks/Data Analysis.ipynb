{
 "cells": [
  {
   "cell_type": "markdown",
   "metadata": {},
   "source": [
    "# ACCRE Project - Data Analysis"
   ]
  },
  {
   "cell_type": "code",
   "execution_count": 1,
   "metadata": {},
   "outputs": [],
   "source": [
    "import pandas as pd\n",
    "import matplotlib.pyplot as plt\n",
    "import seaborn as sns\n",
    "import matplotlib.animation as animation"
   ]
  },
  {
   "cell_type": "code",
   "execution_count": null,
   "metadata": {},
   "outputs": [],
   "source": [
    "# Read in fullsample_cleaned.csv as a dataframe\n",
    "jobs = pd.read_csv(\"../data/fullsample_cleaned.csv\")\n",
    "\n",
    "# Read in fullsample_cleaned.csv as a dataframe\n",
    "logs = pd.read_csv(\"../data/logs.csv\")"
   ]
  },
  {
   "cell_type": "code",
   "execution_count": null,
   "metadata": {},
   "outputs": [],
   "source": [
    "# Convert BEGIN and END columns in jobs df to datetime type\n",
    "jobs['BEGIN'] = pd.to_datetime(jobs['BEGIN'])\n",
    "jobs['END'] = pd.to_datetime(jobs['END'])\n",
    "\n",
    "# Convert REQTIME, USEDTIME, JOBLENGTH columns in jobs df to timedelta type\n",
    "jobs['REQTIME'] = pd.to_timedelta(jobs['REQTIME'])\n",
    "jobs['USEDTIME'] = pd.to_timedelta(jobs['USEDTIME'])\n",
    "jobs['JOBLENGTH'] = pd.to_timedelta(jobs['JOBLENGTH'])\n",
    "\n",
    "# Convert DATE column in logs df to datetime type\n",
    "logs['DATE'] = pd.to_datetime(logs['DATE'])"
   ]
  },
  {
   "cell_type": "code",
   "execution_count": null,
   "metadata": {},
   "outputs": [],
   "source": [
    "# Count the amount of jobs per hour and create new column\n",
    "jobs['GROUP1H'] = jobs.groupby(pd.Grouper(key='END',freq='H')).transform('count')['JOBID'].sort_index()"
   ]
  },
  {
   "cell_type": "markdown",
   "metadata": {},
   "source": [
    "## Question 1: Calculate some descriptive statistics for how many jobs per hour are being completed."
   ]
  },
  {
   "cell_type": "code",
   "execution_count": null,
   "metadata": {},
   "outputs": [],
   "source": [
    "# Total jobs ended each month\n",
    "weekly_jobs_ended_by_hour = jobs.groupby(pd.Grouper(key='END',freq='M')).count()/168\n",
    "weekly_jobs_ended_by_hour = weekly_jobs_ended_by_hour.reset_index()\n",
    "\n",
    "# Total jobs completed each month\n",
    "weekly_jobs_completed_by_hour = jobs[jobs['STATE'] == 'COMPLETED'].groupby(pd.Grouper(key='END',freq='M')).count()/168\n",
    "weekly_jobs_completed_by_hour = weekly_jobs_completed_by_hour.reset_index()\n",
    "\n",
    "# Format date ticks for x axis and define fontsize\n",
    "date_labels = weekly_jobs_ended_by_hour['END'].dt.strftime('%Y-%m')\n",
    "fontsize = 20\n",
    "\n",
    "# Set figure size and graph plots\n",
    "fig, ax = plt.subplots(figsize=(30,16))\n",
    "sns.barplot(x = 'END', \n",
    "            y = 'JOBID', \n",
    "            data = weekly_jobs_ended_by_hour, \n",
    "            hue = date_labels, \n",
    "            dodge = False, \n",
    "            palette = \"deep\",\n",
    "            ax = ax,\n",
    "            alpha = 0.7)\n",
    "sns.barplot(x = 'END', \n",
    "            y = 'JOBID', \n",
    "            data = weekly_jobs_completed_by_hour, \n",
    "            hue = date_labels, \n",
    "            dodge = False, \n",
    "            palette = \"deep\",\n",
    "            ax = ax)\n",
    "\n",
    "plt.xlabel('Week', fontsize = fontsize)\n",
    "plt.xticks(fontsize = fontsize - 2)\n",
    "ax.set_xticklabels(labels = date_labels)\n",
    "\n",
    "plt.ylabel('Jobs Per Hour', fontsize = fontsize)\n",
    "plt.yticks(fontsize = fontsize - 2)\n",
    "\n",
    "ax.get_legend().set_visible(False);"
   ]
  },
  {
   "cell_type": "code",
   "execution_count": null,
   "metadata": {},
   "outputs": [],
   "source": [
    "jobs"
   ]
  },
  {
   "cell_type": "code",
   "execution_count": null,
   "metadata": {},
   "outputs": [],
   "source": [
    "jobs['END'].describe()"
   ]
  },
  {
   "cell_type": "code",
   "execution_count": null,
   "metadata": {},
   "outputs": [],
   "source": [
    "# Total jobs ended each month\n",
    "weekly_jobs_ended_median = jobs.groupby(pd.Grouper(key='END',freq='W')).median()\n",
    "weekly_jobs_ended_median = weekly_jobs_ended_median.reset_index()\n",
    "\n",
    "# Total jobs completed each month\n",
    "weekly_jobs_ended_by_hour = jobs.groupby(pd.Grouper(key='END',freq='W')).count()/168\n",
    "weekly_jobs_ended_by_hour = weekly_jobs_ended_by_hour.reset_index()\n",
    "\n",
    "# Format date ticks for x axis and define fontsize\n",
    "date_labels = weekly_jobs_ended_by_hour['END'].dt.strftime('%Y-%m')\n",
    "fontsize = 20\n",
    "\n",
    "# Set figure size and graph plots\n",
    "fig, ax = plt.subplots(figsize=(30,16))\n",
    "sns.barplot(x = 'END', \n",
    "            y = 'GROUP1H', \n",
    "            data = weekly_jobs_ended_median, \n",
    "            hue = date_labels, \n",
    "            dodge = False, \n",
    "            palette = \"deep\",\n",
    "            ax = ax,\n",
    "            alpha = 0.7)\n",
    "sns.barplot(x = 'END', \n",
    "            y = 'JOBID', \n",
    "            data = weekly_jobs_ended_by_hour, \n",
    "            hue = date_labels, \n",
    "            dodge = False, \n",
    "            palette = \"deep\",\n",
    "            ax = ax)\n",
    "\n",
    "plt.xlabel('Week', fontsize = fontsize)\n",
    "plt.xticks(fontsize = fontsize - 2, rotation = 45)\n",
    "ax.set_xticklabels(labels = date_labels)\n",
    "\n",
    "plt.ylabel('Jobs Per Hour', fontsize = fontsize)\n",
    "plt.yticks(fontsize = fontsize - 2);\n",
    "\n",
    "ax.get_legend().set_visible(False);"
   ]
  },
  {
   "cell_type": "code",
   "execution_count": null,
   "metadata": {},
   "outputs": [],
   "source": [
    "# Total jobs ended each month\n",
    "weekly_jobs_ended_by_hour = jobs.groupby(pd.Grouper(key='END',freq='W')).count()/168\n",
    "weekly_jobs_ended_by_hour = weekly_jobs_ended_by_hour.reset_index()\n",
    "\n",
    "# Total jobs completed each month\n",
    "weekly_jobs_completed_by_hour = jobs[jobs['STATE'] == 'COMPLETED'].groupby(pd.Grouper(key='END',freq='M')).count()/168\n",
    "weekly_jobs_completed_by_hour = weekly_jobs_completed_by_hour.reset_index()\n",
    "\n",
    "# Format date ticks for x axis and define fontsize\n",
    "date_labels = weekly_jobs_ended_by_hour['END'].dt.strftime('%Y-%m')\n",
    "fontsize = 20\n",
    "\n",
    "# Set figure size and graph plots\n",
    "fig, ax = plt.subplots(figsize=(30,16))\n",
    "sns.barplot(x = 'END', \n",
    "            y = 'JOBID', \n",
    "            data = weekly_jobs_ended_by_hour, \n",
    "            hue = date_labels, \n",
    "            dodge = False, \n",
    "            palette = \"deep\",\n",
    "            ax = ax,\n",
    "            alpha = 0.7)\n",
    "# sns.barplot(x = 'END', \n",
    "#             y = 'JOBID', \n",
    "#             data = weekly_jobs_completed_by_hour, \n",
    "#             hue = date_labels, \n",
    "#             dodge = False, \n",
    "#             palette = \"deep\",\n",
    "#             ax = ax)\n",
    "\n",
    "plt.xlabel('Week', fontsize = fontsize)\n",
    "plt.xticks(fontsize = fontsize - 2, rotation = 45)\n",
    "ax.set_xticklabels(labels = date_labels)\n",
    "\n",
    "plt.ylabel('Jobs Per Hour', fontsize = fontsize)\n",
    "plt.yticks(fontsize = fontsize - 2);\n",
    "\n",
    "ax.get_legend().set_visible(False);"
   ]
  },
  {
   "cell_type": "code",
   "execution_count": null,
   "metadata": {
    "scrolled": false
   },
   "outputs": [],
   "source": [
    "# Total jobs ended each month\n",
    "weekly_jobs_ended_by_hour = jobs.groupby(pd.Grouper(key='END',freq='M')).count()/168\n",
    "weekly_jobs_ended_by_hour = weekly_jobs_ended_by_hour.reset_index()\n",
    "\n",
    "# Total jobs completed each month\n",
    "weekly_jobs_completed_by_hour = jobs[jobs['STATE'] == 'COMPLETED'].groupby(pd.Grouper(key='END',freq='M')).count()/168\n",
    "weekly_jobs_completed_by_hour = weekly_jobs_completed_by_hour.reset_index()\n",
    "\n",
    "# Format date ticks for x axis and define fontsize\n",
    "date_labels = weekly_jobs_ended_by_hour['END'].dt.strftime('%Y-%m')\n",
    "fontsize = 20\n",
    "\n",
    "# Set figure size and graph plots\n",
    "fig, ax = plt.subplots(figsize=(30,16))\n",
    "sns.barplot(x = 'END', \n",
    "            y = 'JOBID', \n",
    "            data = weekly_jobs_ended_by_hour, \n",
    "            hue = date_labels, \n",
    "            dodge = False, \n",
    "            palette = \"deep\",\n",
    "            ax = ax,\n",
    "            alpha = 0.7)\n",
    "# sns.barplot(x = 'END', \n",
    "#             y = 'JOBID', \n",
    "#             data = weekly_jobs_completed_by_hour, \n",
    "#             hue = date_labels, \n",
    "#             dodge = False, \n",
    "#             palette = \"deep\",\n",
    "#             ax = ax)\n",
    "\n",
    "plt.xlabel('Week', fontsize = fontsize)\n",
    "plt.xticks(fontsize = fontsize - 2)\n",
    "ax.set_xticklabels(labels = date_labels)\n",
    "\n",
    "plt.ylabel('Jobs Per Hour', fontsize = fontsize)\n",
    "plt.yticks(fontsize = fontsize - 2);\n",
    "\n",
    "ax.get_legend().set_visible(False);"
   ]
  },
  {
   "cell_type": "markdown",
   "metadata": {},
   "source": [
    "## Question 2: What does the completions per hour look like over the time span of the dataset?"
   ]
  },
  {
   "cell_type": "markdown",
   "metadata": {},
   "source": [
    "## Question 3: Are there weekly trends, and has it been increasing over the last year?"
   ]
  },
  {
   "cell_type": "code",
   "execution_count": null,
   "metadata": {
    "scrolled": false
   },
   "outputs": [],
   "source": [
    "jobs.groupby([jobs.END.dt.year, jobs.END.dt.month, jobs.END.dt.day, jobs.END.dt.hour]).count()"
   ]
  },
  {
   "cell_type": "markdown",
   "metadata": {},
   "source": [
    "Boxplot = Group by month and graph ? on y-axis\n",
    "Violin plot with x-axis = months (Oct. 2020 thru Oct. 2021) and y-axis = ?"
   ]
  },
  {
   "cell_type": "markdown",
   "metadata": {},
   "source": [
    "It seems that the amount of jobs per hour increase in the August to September time frame. Coincidentally this correlates to the beginning of the school year. If we could analyze the data for the rest of 2020, 2019 and 2018, we could test further validate this hypothesis."
   ]
  },
  {
   "cell_type": "code",
   "execution_count": null,
   "metadata": {
    "scrolled": false
   },
   "outputs": [],
   "source": [
    "daily_jobs_ended_per_hour = jobs.groupby(jobs['END'].dt.day_name()).count()['JOBID']/168\n",
    "daily_jobs_ended_per_hour = daily_jobs_ended_per_hour.reindex(['Monday', 'Tuesday', 'Wednesday', 'Thursday', 'Friday', 'Saturday', 'Sunday'])\n",
    "\n",
    "fig, ax = plt.subplots(figsize=(30,16))\n",
    "daily_jobs_ended_per_hour.plot(kind='bar')\n",
    "\n",
    "plt.xlabel('Day of the Week', fontsize=20)\n",
    "day_labels = daily_jobs_ended_per_hour.index\n",
    "ax.set_xticklabels(labels=day_labels, rotation=90, fontsize=20)\n",
    "\n",
    "plt.ylabel('Jobs Per Hour', fontsize=20)\n",
    "plt.yticks(fontsize=20);"
   ]
  },
  {
   "cell_type": "markdown",
   "metadata": {},
   "source": [
    "On average, it looks like the completed jobs per hour are higher at the beginning of the week (Monday thru Wednesday) and decrease as the week goes on."
   ]
  },
  {
   "cell_type": "markdown",
   "metadata": {},
   "source": [
    "## Question 4: Does the job state affect completions per hour? i.e. if I only look at jobs with exit code 0:0 in the \"COMPLETED\" state, is that a similar number of completions per hour as with all jobs, failed or cancelled? This will indicate if the load on the scheduler is by user design or is a result of users not sufficiently testing their jobs before submitting very large arrays. We also expect that most job completions will be in the \"production\" partition, but is this actually true?"
   ]
  },
  {
   "cell_type": "markdown",
   "metadata": {},
   "source": [
    "## Question 5: Calculate some descriptive statistics about how often the scheduler was unresponsive, how long these periods of time were, and create a time series plot of when the scheduler was having difficulties."
   ]
  },
  {
   "cell_type": "code",
   "execution_count": null,
   "metadata": {},
   "outputs": [],
   "source": [
    "logs['TIMELAPS'].str.extract('(\\w+\\s\\d)')"
   ]
  },
  {
   "cell_type": "code",
   "execution_count": null,
   "metadata": {},
   "outputs": [],
   "source": [
    "logs"
   ]
  },
  {
   "cell_type": "code",
   "execution_count": null,
   "metadata": {},
   "outputs": [],
   "source": [
    "logs[(logs['USER'] == 'user 9204') \n",
    "     & (logs['RETURNCODE'] == 'returncode 1')\n",
    "    & ()]"
   ]
  },
  {
   "cell_type": "markdown",
   "metadata": {},
   "source": [
    "## Question 6: Finally, combine the time series information from the two datasets together to see how well correlated heavy job-completion load is with the unresponsiveness, and to see if there is some threshold of job completions per hour that generally results in unresponsiveness."
   ]
  }
 ],
 "metadata": {
  "kernelspec": {
   "display_name": "Python 3",
   "language": "python",
   "name": "python3"
  },
  "language_info": {
   "codemirror_mode": {
    "name": "ipython",
    "version": 3
   },
   "file_extension": ".py",
   "mimetype": "text/x-python",
   "name": "python",
   "nbconvert_exporter": "python",
   "pygments_lexer": "ipython3",
   "version": "3.8.5"
  }
 },
 "nbformat": 4,
 "nbformat_minor": 4
}
